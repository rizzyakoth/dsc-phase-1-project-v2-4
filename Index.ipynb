{
 "cells": [
  {
   "cell_type": "markdown",
   "metadata": {},
   "source": [
    "# PROJECT : CREATING MICROSOFT'S OWN MOVIE STUDIO\n",
    "\n",
    "# Introduction\n",
    "In a bold move to diversify its portfolio and expand into the dynamic world of entertainment, Microsoft intends to venture into the entertainment industry by establishing a new film production studio. The primary goal of this project is to gain a deep understanding of the film industry's current dynamics and translate this knowledge into actionable insights.\n",
    "\n",
    "# Business Understanding\n",
    "The move to join the movie industry reflects Microsoft's recognition of the transformative power of storytelling, the widespread appeal of cinematic content, and the immense financial potential that this industry offers.The movie industry involves producing a wide array of content, from blockbuster films to compelling documentaries and captivating series. Microsoft's venture into this domain aligns with its broader mission of enhancing the lives of individuals and organizations through innovation. By conducting a comprehensive analysis of this project, we aim to provide valuable insights into various aspects of the movie industry.Let's look at some of the objectives used:\n",
    "\n",
    "# Objectives\n",
    "We will be able to:\n",
    "\n",
    "1. Analyze the overall box office performance of movies, including domestic,foreign gross and budget, to identify trends and patterns over the years.\n",
    "2. Identify emerging genre trends by analyzing the popularity of genres over time.\n",
    "3. Analyze movie details such as directors and box office performance.\n",
    "4. Analyze relationship between reviews and ratings\n",
    "\n",
    "# Data Understanding\n",
    "In this project, we'll work with a bom.movie_gross.csv, rt.movie_info.tsv, tmdb.movies.csv, im.db database, rt.reviews.tsv and tn.movie_budgets.csv datasets.Because they were collected from various locations, the different files have different formats. Some are compressed CSV (comma-separated values) or TSV (tab-separated values) files that can be opened using spreadsheet software or pd.read_csv, while the data from IMDB is located in a SQLite database.\n",
    "\n",
    "In data understanding we basically understand the columns of each of the data.This will be explained as we do our data cleaning before we begin with the analysis."
   ]
  },
  {
   "cell_type": "markdown",
   "metadata": {},
   "source": [
    "# Requirements\n",
    "1. Load the Data with Pandas\n",
    "In this analysis we have different files:'bom.movie_gross.csv', 'tn.movie_budgets.csv', 'tmdb.movies.csv',\n",
    "'im.db', 'rt.movie_info.tsv', 'rt.reviews.tsv'. We will use different dataframes to represent the various files. Use pandas methods to inspect the shape and other attributes of these dataframes.\n",
    "2. Perform Data Cleaning Required\n",
    "In order to do analysis, we will need to:\n",
    "    a. Identify and handle missing values\n",
    "    b. Identify and handle text data requiring cleaning\n",
    "3. Data Analysis\n",
    "    Here we start the analysis according to our objectives\n",
    "    Plot our data visualization"
   ]
  },
  {
   "cell_type": "markdown",
   "metadata": {},
   "source": [
    "# 1.0 Load the data with pandas\n",
    "In the cell below, we:\n",
    "Import and alias pandas as pd\n",
    "Import and alias numpy as np\n",
    "Import sqlite3 for the sql database\n",
    "Import and alias seaborn as sns\n",
    "Import and alias matplotlib.pyplot as plt\n",
    "Set Matplotlib visualizations to display inline in the notebook"
   ]
  },
  {
   "cell_type": "code",
   "execution_count": 117,
   "metadata": {},
   "outputs": [],
   "source": [
    "# import relevant libraries required\n",
    "import pandas as pd\n",
    "import numpy as np\n",
    "import sqlite3\n",
    "import seaborn as sns\n",
    "import matplotlib.pyplot as plt\n",
    "\n",
    "%matplotlib inline"
   ]
  },
  {
   "cell_type": "markdown",
   "metadata": {},
   "source": [
    "In the cell below we load bom.movie_gross.csv as bom_df and display the first 5 rows of the dataset:"
   ]
  },
  {
   "cell_type": "code",
   "execution_count": 118,
   "metadata": {},
   "outputs": [
    {
     "data": {
      "text/html": [
       "<div>\n",
       "<style scoped>\n",
       "    .dataframe tbody tr th:only-of-type {\n",
       "        vertical-align: middle;\n",
       "    }\n",
       "\n",
       "    .dataframe tbody tr th {\n",
       "        vertical-align: top;\n",
       "    }\n",
       "\n",
       "    .dataframe thead th {\n",
       "        text-align: right;\n",
       "    }\n",
       "</style>\n",
       "<table border=\"1\" class=\"dataframe\">\n",
       "  <thead>\n",
       "    <tr style=\"text-align: right;\">\n",
       "      <th></th>\n",
       "      <th>title</th>\n",
       "      <th>studio</th>\n",
       "      <th>domestic_gross</th>\n",
       "      <th>foreign_gross</th>\n",
       "      <th>year</th>\n",
       "    </tr>\n",
       "  </thead>\n",
       "  <tbody>\n",
       "    <tr>\n",
       "      <th>0</th>\n",
       "      <td>Toy Story 3</td>\n",
       "      <td>BV</td>\n",
       "      <td>415000000.0</td>\n",
       "      <td>652000000</td>\n",
       "      <td>2010</td>\n",
       "    </tr>\n",
       "    <tr>\n",
       "      <th>1</th>\n",
       "      <td>Alice in Wonderland (2010)</td>\n",
       "      <td>BV</td>\n",
       "      <td>334200000.0</td>\n",
       "      <td>691300000</td>\n",
       "      <td>2010</td>\n",
       "    </tr>\n",
       "    <tr>\n",
       "      <th>2</th>\n",
       "      <td>Harry Potter and the Deathly Hallows Part 1</td>\n",
       "      <td>WB</td>\n",
       "      <td>296000000.0</td>\n",
       "      <td>664300000</td>\n",
       "      <td>2010</td>\n",
       "    </tr>\n",
       "    <tr>\n",
       "      <th>3</th>\n",
       "      <td>Inception</td>\n",
       "      <td>WB</td>\n",
       "      <td>292600000.0</td>\n",
       "      <td>535700000</td>\n",
       "      <td>2010</td>\n",
       "    </tr>\n",
       "    <tr>\n",
       "      <th>4</th>\n",
       "      <td>Shrek Forever After</td>\n",
       "      <td>P/DW</td>\n",
       "      <td>238700000.0</td>\n",
       "      <td>513900000</td>\n",
       "      <td>2010</td>\n",
       "    </tr>\n",
       "  </tbody>\n",
       "</table>\n",
       "</div>"
      ],
      "text/plain": [
       "                                         title studio  domestic_gross  \\\n",
       "0                                  Toy Story 3     BV     415000000.0   \n",
       "1                   Alice in Wonderland (2010)     BV     334200000.0   \n",
       "2  Harry Potter and the Deathly Hallows Part 1     WB     296000000.0   \n",
       "3                                    Inception     WB     292600000.0   \n",
       "4                          Shrek Forever After   P/DW     238700000.0   \n",
       "\n",
       "  foreign_gross  year  \n",
       "0     652000000  2010  \n",
       "1     691300000  2010  \n",
       "2     664300000  2010  \n",
       "3     535700000  2010  \n",
       "4     513900000  2010  "
      ]
     },
     "execution_count": 118,
     "metadata": {},
     "output_type": "execute_result"
    }
   ],
   "source": [
    "# Load the dataset\n",
    "bom_df= pd.read_csv('bom.movie_gross.csv')\n",
    "bom_df.head()"
   ]
  },
  {
   "cell_type": "markdown",
   "metadata": {},
   "source": [
    "This step includes:\n",
    "    a. Understanding the dimensionality of our dataset\n",
    "    b. Investigating what type of data it contains, and the data types used to store it\n",
    "    c. Discovering how missing values are encoded, and how many there are\n",
    "    d. Getting a feel for what information it does and doesn't contain\n",
    "In the cell below, inspect the overall shape of the dataframe(number of rows and columns):"
   ]
  },
  {
   "cell_type": "code",
   "execution_count": 119,
   "metadata": {},
   "outputs": [
    {
     "data": {
      "text/plain": [
       "(3387, 5)"
      ]
     },
     "execution_count": 119,
     "metadata": {},
     "output_type": "execute_result"
    }
   ],
   "source": [
    "# Number of rows and columns\n",
    "bom_df.shape"
   ]
  },
  {
   "cell_type": "markdown",
   "metadata": {},
   "source": [
    "Now let's look at the info printout:"
   ]
  },
  {
   "cell_type": "code",
   "execution_count": 120,
   "metadata": {},
   "outputs": [
    {
     "name": "stdout",
     "output_type": "stream",
     "text": [
      "<class 'pandas.core.frame.DataFrame'>\n",
      "RangeIndex: 3387 entries, 0 to 3386\n",
      "Data columns (total 5 columns):\n",
      " #   Column          Non-Null Count  Dtype  \n",
      "---  ------          --------------  -----  \n",
      " 0   title           3387 non-null   object \n",
      " 1   studio          3382 non-null   object \n",
      " 2   domestic_gross  3359 non-null   float64\n",
      " 3   foreign_gross   2037 non-null   object \n",
      " 4   year            3387 non-null   int64  \n",
      "dtypes: float64(1), int64(1), object(3)\n",
      "memory usage: 132.4+ KB\n"
     ]
    }
   ],
   "source": [
    "# Check for data types\n",
    "bom_df.info()"
   ]
  },
  {
   "cell_type": "markdown",
   "metadata": {},
   "source": [
    "The dataframe has 3387 rows and 5 columns. Three columns have data type object which can be string or categorical data(title,studio and foreign_gross), one column has data type float64(domestic_gross) and another column has data type int64(year). There are also missing values in 'studio', 'domestic_gross' and 'foreign_gross'.\n",
    "\n",
    "Now let's check the number of entities or rows in each column:"
   ]
  },
  {
   "cell_type": "code",
   "execution_count": 121,
   "metadata": {},
   "outputs": [
    {
     "data": {
      "text/plain": [
       "title             3387\n",
       "studio            3382\n",
       "domestic_gross    3359\n",
       "foreign_gross     2037\n",
       "year              3387\n",
       "dtype: int64"
      ]
     },
     "execution_count": 121,
     "metadata": {},
     "output_type": "execute_result"
    }
   ],
   "source": [
    "#checking number of entities in each column\n",
    "bom_df.count()"
   ]
  },
  {
   "cell_type": "code",
   "execution_count": 122,
   "metadata": {},
   "outputs": [
    {
     "data": {
      "text/plain": [
       "['title', 'studio', 'domestic_gross', 'foreign_gross', 'year']"
      ]
     },
     "execution_count": 122,
     "metadata": {},
     "output_type": "execute_result"
    }
   ],
   "source": [
    "# List of the columns\n",
    "bom_df_columns = bom_df.columns.tolist()\n",
    "bom_df_columns"
   ]
  },
  {
   "cell_type": "markdown",
   "metadata": {},
   "source": [
    "Checking the statistical measures of our dataframe using .describe() function in order to find the mean, median, mode and other measures related to the statistical observation:"
   ]
  },
  {
   "cell_type": "code",
   "execution_count": 123,
   "metadata": {},
   "outputs": [
    {
     "data": {
      "text/html": [
       "<div>\n",
       "<style scoped>\n",
       "    .dataframe tbody tr th:only-of-type {\n",
       "        vertical-align: middle;\n",
       "    }\n",
       "\n",
       "    .dataframe tbody tr th {\n",
       "        vertical-align: top;\n",
       "    }\n",
       "\n",
       "    .dataframe thead th {\n",
       "        text-align: right;\n",
       "    }\n",
       "</style>\n",
       "<table border=\"1\" class=\"dataframe\">\n",
       "  <thead>\n",
       "    <tr style=\"text-align: right;\">\n",
       "      <th></th>\n",
       "      <th>domestic_gross</th>\n",
       "      <th>year</th>\n",
       "    </tr>\n",
       "  </thead>\n",
       "  <tbody>\n",
       "    <tr>\n",
       "      <th>count</th>\n",
       "      <td>3.359000e+03</td>\n",
       "      <td>3387.000000</td>\n",
       "    </tr>\n",
       "    <tr>\n",
       "      <th>mean</th>\n",
       "      <td>2.874585e+07</td>\n",
       "      <td>2013.958075</td>\n",
       "    </tr>\n",
       "    <tr>\n",
       "      <th>std</th>\n",
       "      <td>6.698250e+07</td>\n",
       "      <td>2.478141</td>\n",
       "    </tr>\n",
       "    <tr>\n",
       "      <th>min</th>\n",
       "      <td>1.000000e+02</td>\n",
       "      <td>2010.000000</td>\n",
       "    </tr>\n",
       "    <tr>\n",
       "      <th>25%</th>\n",
       "      <td>1.200000e+05</td>\n",
       "      <td>2012.000000</td>\n",
       "    </tr>\n",
       "    <tr>\n",
       "      <th>50%</th>\n",
       "      <td>1.400000e+06</td>\n",
       "      <td>2014.000000</td>\n",
       "    </tr>\n",
       "    <tr>\n",
       "      <th>75%</th>\n",
       "      <td>2.790000e+07</td>\n",
       "      <td>2016.000000</td>\n",
       "    </tr>\n",
       "    <tr>\n",
       "      <th>max</th>\n",
       "      <td>9.367000e+08</td>\n",
       "      <td>2018.000000</td>\n",
       "    </tr>\n",
       "  </tbody>\n",
       "</table>\n",
       "</div>"
      ],
      "text/plain": [
       "       domestic_gross         year\n",
       "count    3.359000e+03  3387.000000\n",
       "mean     2.874585e+07  2013.958075\n",
       "std      6.698250e+07     2.478141\n",
       "min      1.000000e+02  2010.000000\n",
       "25%      1.200000e+05  2012.000000\n",
       "50%      1.400000e+06  2014.000000\n",
       "75%      2.790000e+07  2016.000000\n",
       "max      9.367000e+08  2018.000000"
      ]
     },
     "execution_count": 123,
     "metadata": {},
     "output_type": "execute_result"
    }
   ],
   "source": [
    "#statistical measures\n",
    "bom_df.describe()"
   ]
  },
  {
   "cell_type": "markdown",
   "metadata": {},
   "source": [
    "Here we can look at the total number of missing values in the dataframe and find the null percentage:"
   ]
  },
  {
   "cell_type": "code",
   "execution_count": 124,
   "metadata": {},
   "outputs": [
    {
     "data": {
      "text/plain": [
       "title                0\n",
       "studio               5\n",
       "domestic_gross      28\n",
       "foreign_gross     1350\n",
       "year                 0\n",
       "dtype: int64"
      ]
     },
     "execution_count": 124,
     "metadata": {},
     "output_type": "execute_result"
    }
   ],
   "source": [
    "# Checking for missing values\n",
    "bom_df.isnull().sum()"
   ]
  },
  {
   "cell_type": "code",
   "execution_count": 125,
   "metadata": {},
   "outputs": [
    {
     "data": {
      "text/plain": [
       "title              0.000000\n",
       "studio             0.147623\n",
       "domestic_gross     0.826690\n",
       "foreign_gross     39.858282\n",
       "year               0.000000\n",
       "dtype: float64"
      ]
     },
     "execution_count": 125,
     "metadata": {},
     "output_type": "execute_result"
    }
   ],
   "source": [
    "# Calculate null percentage\n",
    "null_count_bom_df = bom_df.isnull().sum()\n",
    "total_count_bom_df = bom_df.shape[0]\n",
    "null_percentage_bom_df = (null_count_bom_df / total_count_bom_df) * 100\n",
    "null_percentage_bom_df"
   ]
  },
  {
   "cell_type": "markdown",
   "metadata": {},
   "source": [
    "As we can see the percentage of missing values from 'foreign_gross' is a bit high unlike that of 'studio' and 'domestic_gross'. In this case since it is part of our analysis,we have to choose a method that will not interfere with our data. Imputation will be best for this, we will  impute missing values in the 'foreign_gross' column using the mean value of the available data.\n",
    "\n",
    "Here is how to impute missing values and confirmation that there is no missing value in 'foreign_gross' column:"
   ]
  },
  {
   "cell_type": "code",
   "execution_count": 126,
   "metadata": {
    "scrolled": true
   },
   "outputs": [
    {
     "name": "stdout",
     "output_type": "stream",
     "text": [
      "0\n"
     ]
    }
   ],
   "source": [
    "# Impute missing values in 'foreign_gross' with the mean value\n",
    "\n",
    "# Replace \"NaN\" strings with actual NaN values in 'foreign_gross' column\n",
    "bom_df['foreign_gross'].replace(\"NaN\", np.nan, inplace=True)\n",
    "\n",
    "# Convert 'foreign_gross' column to numeric (if it was not already)\n",
    "bom_df['foreign_gross'] = pd.to_numeric(bom_df['foreign_gross'], errors='coerce')\n",
    "\n",
    "# Impute missing values in 'foreign_gross' with the mean value\n",
    "mean_foreign_gross = bom_df['foreign_gross'].mean()\n",
    "bom_df['foreign_gross'].fillna(mean_foreign_gross, inplace=True)\n",
    "\n",
    "# Check if missing values have been imputed\n",
    "print(bom_df['foreign_gross'].isnull().sum())\n"
   ]
  },
  {
   "cell_type": "markdown",
   "metadata": {},
   "source": [
    "Since the other two columns don't have large percentages for missing values. The best option for 'studio' and 'domestic_gross' columns will be to drop them because they will not significantly impact the analysis.\n",
    "\n",
    "In the cell below, we drop rows with missing values in 'studio' and 'domestic_gross':"
   ]
  },
  {
   "cell_type": "code",
   "execution_count": 127,
   "metadata": {},
   "outputs": [
    {
     "data": {
      "text/html": [
       "<div>\n",
       "<style scoped>\n",
       "    .dataframe tbody tr th:only-of-type {\n",
       "        vertical-align: middle;\n",
       "    }\n",
       "\n",
       "    .dataframe tbody tr th {\n",
       "        vertical-align: top;\n",
       "    }\n",
       "\n",
       "    .dataframe thead th {\n",
       "        text-align: right;\n",
       "    }\n",
       "</style>\n",
       "<table border=\"1\" class=\"dataframe\">\n",
       "  <thead>\n",
       "    <tr style=\"text-align: right;\">\n",
       "      <th></th>\n",
       "      <th>title</th>\n",
       "      <th>studio</th>\n",
       "      <th>domestic_gross</th>\n",
       "      <th>foreign_gross</th>\n",
       "      <th>year</th>\n",
       "    </tr>\n",
       "  </thead>\n",
       "  <tbody>\n",
       "    <tr>\n",
       "      <th>0</th>\n",
       "      <td>Toy Story 3</td>\n",
       "      <td>BV</td>\n",
       "      <td>415000000.0</td>\n",
       "      <td>6.520000e+08</td>\n",
       "      <td>2010</td>\n",
       "    </tr>\n",
       "    <tr>\n",
       "      <th>1</th>\n",
       "      <td>Alice in Wonderland (2010)</td>\n",
       "      <td>BV</td>\n",
       "      <td>334200000.0</td>\n",
       "      <td>6.913000e+08</td>\n",
       "      <td>2010</td>\n",
       "    </tr>\n",
       "    <tr>\n",
       "      <th>2</th>\n",
       "      <td>Harry Potter and the Deathly Hallows Part 1</td>\n",
       "      <td>WB</td>\n",
       "      <td>296000000.0</td>\n",
       "      <td>6.643000e+08</td>\n",
       "      <td>2010</td>\n",
       "    </tr>\n",
       "    <tr>\n",
       "      <th>3</th>\n",
       "      <td>Inception</td>\n",
       "      <td>WB</td>\n",
       "      <td>292600000.0</td>\n",
       "      <td>5.357000e+08</td>\n",
       "      <td>2010</td>\n",
       "    </tr>\n",
       "    <tr>\n",
       "      <th>4</th>\n",
       "      <td>Shrek Forever After</td>\n",
       "      <td>P/DW</td>\n",
       "      <td>238700000.0</td>\n",
       "      <td>5.139000e+08</td>\n",
       "      <td>2010</td>\n",
       "    </tr>\n",
       "    <tr>\n",
       "      <th>...</th>\n",
       "      <td>...</td>\n",
       "      <td>...</td>\n",
       "      <td>...</td>\n",
       "      <td>...</td>\n",
       "      <td>...</td>\n",
       "    </tr>\n",
       "    <tr>\n",
       "      <th>3382</th>\n",
       "      <td>The Quake</td>\n",
       "      <td>Magn.</td>\n",
       "      <td>6200.0</td>\n",
       "      <td>7.505704e+07</td>\n",
       "      <td>2018</td>\n",
       "    </tr>\n",
       "    <tr>\n",
       "      <th>3383</th>\n",
       "      <td>Edward II (2018 re-release)</td>\n",
       "      <td>FM</td>\n",
       "      <td>4800.0</td>\n",
       "      <td>7.505704e+07</td>\n",
       "      <td>2018</td>\n",
       "    </tr>\n",
       "    <tr>\n",
       "      <th>3384</th>\n",
       "      <td>El Pacto</td>\n",
       "      <td>Sony</td>\n",
       "      <td>2500.0</td>\n",
       "      <td>7.505704e+07</td>\n",
       "      <td>2018</td>\n",
       "    </tr>\n",
       "    <tr>\n",
       "      <th>3385</th>\n",
       "      <td>The Swan</td>\n",
       "      <td>Synergetic</td>\n",
       "      <td>2400.0</td>\n",
       "      <td>7.505704e+07</td>\n",
       "      <td>2018</td>\n",
       "    </tr>\n",
       "    <tr>\n",
       "      <th>3386</th>\n",
       "      <td>An Actor Prepares</td>\n",
       "      <td>Grav.</td>\n",
       "      <td>1700.0</td>\n",
       "      <td>7.505704e+07</td>\n",
       "      <td>2018</td>\n",
       "    </tr>\n",
       "  </tbody>\n",
       "</table>\n",
       "<p>3356 rows × 5 columns</p>\n",
       "</div>"
      ],
      "text/plain": [
       "                                            title      studio  domestic_gross  \\\n",
       "0                                     Toy Story 3          BV     415000000.0   \n",
       "1                      Alice in Wonderland (2010)          BV     334200000.0   \n",
       "2     Harry Potter and the Deathly Hallows Part 1          WB     296000000.0   \n",
       "3                                       Inception          WB     292600000.0   \n",
       "4                             Shrek Forever After        P/DW     238700000.0   \n",
       "...                                           ...         ...             ...   \n",
       "3382                                    The Quake       Magn.          6200.0   \n",
       "3383                  Edward II (2018 re-release)          FM          4800.0   \n",
       "3384                                     El Pacto        Sony          2500.0   \n",
       "3385                                     The Swan  Synergetic          2400.0   \n",
       "3386                            An Actor Prepares       Grav.          1700.0   \n",
       "\n",
       "      foreign_gross  year  \n",
       "0      6.520000e+08  2010  \n",
       "1      6.913000e+08  2010  \n",
       "2      6.643000e+08  2010  \n",
       "3      5.357000e+08  2010  \n",
       "4      5.139000e+08  2010  \n",
       "...             ...   ...  \n",
       "3382   7.505704e+07  2018  \n",
       "3383   7.505704e+07  2018  \n",
       "3384   7.505704e+07  2018  \n",
       "3385   7.505704e+07  2018  \n",
       "3386   7.505704e+07  2018  \n",
       "\n",
       "[3356 rows x 5 columns]"
      ]
     },
     "execution_count": 127,
     "metadata": {},
     "output_type": "execute_result"
    }
   ],
   "source": [
    "#drop rows with missing values for both 'studio' and 'domestic_gross'\n",
    "bom_df.dropna(subset=['studio', 'domestic_gross'], inplace=True)\n",
    "# Display the cleaned DataFrame\n",
    "bom_df"
   ]
  },
  {
   "cell_type": "markdown",
   "metadata": {},
   "source": [
    "The DataFrame bom_df displayed at the end is the cleaned version with missing values in 'foreign_gross' imputed and rows with missing values in 'studio' and 'domestic_gross' removed.\n",
    "\n",
    "We can go ahead and check for any duplicates and data inconsistency:"
   ]
  },
  {
   "cell_type": "code",
   "execution_count": 128,
   "metadata": {},
   "outputs": [
    {
     "data": {
      "text/plain": [
       "0"
      ]
     },
     "execution_count": 128,
     "metadata": {},
     "output_type": "execute_result"
    }
   ],
   "source": [
    "# Checking for any duplicates\n",
    "bom_df.duplicated().sum()"
   ]
  },
  {
   "cell_type": "code",
   "execution_count": 129,
   "metadata": {},
   "outputs": [
    {
     "data": {
      "text/html": [
       "<div>\n",
       "<style scoped>\n",
       "    .dataframe tbody tr th:only-of-type {\n",
       "        vertical-align: middle;\n",
       "    }\n",
       "\n",
       "    .dataframe tbody tr th {\n",
       "        vertical-align: top;\n",
       "    }\n",
       "\n",
       "    .dataframe thead th {\n",
       "        text-align: right;\n",
       "    }\n",
       "</style>\n",
       "<table border=\"1\" class=\"dataframe\">\n",
       "  <thead>\n",
       "    <tr style=\"text-align: right;\">\n",
       "      <th></th>\n",
       "      <th>domestic_gross</th>\n",
       "      <th>foreign_gross</th>\n",
       "      <th>year</th>\n",
       "    </tr>\n",
       "  </thead>\n",
       "  <tbody>\n",
       "    <tr>\n",
       "      <th>count</th>\n",
       "      <td>3.356000e+03</td>\n",
       "      <td>3.356000e+03</td>\n",
       "      <td>3356.000000</td>\n",
       "    </tr>\n",
       "    <tr>\n",
       "      <th>mean</th>\n",
       "      <td>2.877149e+07</td>\n",
       "      <td>7.560743e+07</td>\n",
       "      <td>2013.970203</td>\n",
       "    </tr>\n",
       "    <tr>\n",
       "      <th>std</th>\n",
       "      <td>6.700694e+07</td>\n",
       "      <td>1.068080e+08</td>\n",
       "      <td>2.479064</td>\n",
       "    </tr>\n",
       "    <tr>\n",
       "      <th>min</th>\n",
       "      <td>1.000000e+02</td>\n",
       "      <td>6.000000e+02</td>\n",
       "      <td>2010.000000</td>\n",
       "    </tr>\n",
       "    <tr>\n",
       "      <th>25%</th>\n",
       "      <td>1.200000e+05</td>\n",
       "      <td>1.240000e+07</td>\n",
       "      <td>2012.000000</td>\n",
       "    </tr>\n",
       "    <tr>\n",
       "      <th>50%</th>\n",
       "      <td>1.400000e+06</td>\n",
       "      <td>7.505704e+07</td>\n",
       "      <td>2014.000000</td>\n",
       "    </tr>\n",
       "    <tr>\n",
       "      <th>75%</th>\n",
       "      <td>2.795000e+07</td>\n",
       "      <td>7.505704e+07</td>\n",
       "      <td>2016.000000</td>\n",
       "    </tr>\n",
       "    <tr>\n",
       "      <th>max</th>\n",
       "      <td>9.367000e+08</td>\n",
       "      <td>9.605000e+08</td>\n",
       "      <td>2018.000000</td>\n",
       "    </tr>\n",
       "  </tbody>\n",
       "</table>\n",
       "</div>"
      ],
      "text/plain": [
       "       domestic_gross  foreign_gross         year\n",
       "count    3.356000e+03   3.356000e+03  3356.000000\n",
       "mean     2.877149e+07   7.560743e+07  2013.970203\n",
       "std      6.700694e+07   1.068080e+08     2.479064\n",
       "min      1.000000e+02   6.000000e+02  2010.000000\n",
       "25%      1.200000e+05   1.240000e+07  2012.000000\n",
       "50%      1.400000e+06   7.505704e+07  2014.000000\n",
       "75%      2.795000e+07   7.505704e+07  2016.000000\n",
       "max      9.367000e+08   9.605000e+08  2018.000000"
      ]
     },
     "execution_count": 129,
     "metadata": {},
     "output_type": "execute_result"
    }
   ],
   "source": [
    "# Check for data inconsistency\n",
    "bom_df.describe()\n"
   ]
  },
  {
   "cell_type": "markdown",
   "metadata": {},
   "source": [
    "Here we check the data types after succesfully converting foreign_gross column from object to float64:"
   ]
  },
  {
   "cell_type": "code",
   "execution_count": 130,
   "metadata": {},
   "outputs": [
    {
     "name": "stdout",
     "output_type": "stream",
     "text": [
      "<class 'pandas.core.frame.DataFrame'>\n",
      "Int64Index: 3356 entries, 0 to 3386\n",
      "Data columns (total 5 columns):\n",
      " #   Column          Non-Null Count  Dtype  \n",
      "---  ------          --------------  -----  \n",
      " 0   title           3356 non-null   object \n",
      " 1   studio          3356 non-null   object \n",
      " 2   domestic_gross  3356 non-null   float64\n",
      " 3   foreign_gross   3356 non-null   float64\n",
      " 4   year            3356 non-null   int64  \n",
      "dtypes: float64(2), int64(1), object(2)\n",
      "memory usage: 157.3+ KB\n"
     ]
    }
   ],
   "source": [
    "# Check for the data types\n",
    "bom_df.info()"
   ]
  },
  {
   "cell_type": "markdown",
   "metadata": {},
   "source": [
    "In the above cell,there is no missing values,data types  have been sorted and the data has been cleaned ready for analysis.\n",
    "\n",
    "Let's find the yearly gross by summing up 'domestic_gross' and 'foreign_gross' using .groupby() function. Let the variable be yearly_gross:"
   ]
  },
  {
   "cell_type": "code",
   "execution_count": 131,
   "metadata": {
    "scrolled": true
   },
   "outputs": [
    {
     "data": {
      "text/html": [
       "<div>\n",
       "<style scoped>\n",
       "    .dataframe tbody tr th:only-of-type {\n",
       "        vertical-align: middle;\n",
       "    }\n",
       "\n",
       "    .dataframe tbody tr th {\n",
       "        vertical-align: top;\n",
       "    }\n",
       "\n",
       "    .dataframe thead th {\n",
       "        text-align: right;\n",
       "    }\n",
       "</style>\n",
       "<table border=\"1\" class=\"dataframe\">\n",
       "  <thead>\n",
       "    <tr style=\"text-align: right;\">\n",
       "      <th></th>\n",
       "      <th>domestic_gross</th>\n",
       "      <th>foreign_gross</th>\n",
       "    </tr>\n",
       "    <tr>\n",
       "      <th>year</th>\n",
       "      <th></th>\n",
       "      <th></th>\n",
       "    </tr>\n",
       "  </thead>\n",
       "  <tbody>\n",
       "    <tr>\n",
       "      <th>2010</th>\n",
       "      <td>1.015683e+10</td>\n",
       "      <td>1.542017e+10</td>\n",
       "    </tr>\n",
       "    <tr>\n",
       "      <th>2011</th>\n",
       "      <td>1.006409e+10</td>\n",
       "      <td>2.361891e+10</td>\n",
       "    </tr>\n",
       "    <tr>\n",
       "      <th>2012</th>\n",
       "      <td>1.087661e+10</td>\n",
       "      <td>2.826154e+10</td>\n",
       "    </tr>\n",
       "    <tr>\n",
       "      <th>2013</th>\n",
       "      <td>1.079233e+10</td>\n",
       "      <td>2.746351e+10</td>\n",
       "    </tr>\n",
       "    <tr>\n",
       "      <th>2014</th>\n",
       "      <td>1.033773e+10</td>\n",
       "      <td>2.866557e+10</td>\n",
       "    </tr>\n",
       "    <tr>\n",
       "      <th>2015</th>\n",
       "      <td>1.105141e+10</td>\n",
       "      <td>3.481930e+10</td>\n",
       "    </tr>\n",
       "    <tr>\n",
       "      <th>2016</th>\n",
       "      <td>1.125365e+10</td>\n",
       "      <td>3.707014e+10</td>\n",
       "    </tr>\n",
       "    <tr>\n",
       "      <th>2017</th>\n",
       "      <td>1.093327e+10</td>\n",
       "      <td>3.073715e+10</td>\n",
       "    </tr>\n",
       "    <tr>\n",
       "      <th>2018</th>\n",
       "      <td>1.109121e+10</td>\n",
       "      <td>2.768225e+10</td>\n",
       "    </tr>\n",
       "  </tbody>\n",
       "</table>\n",
       "</div>"
      ],
      "text/plain": [
       "      domestic_gross  foreign_gross\n",
       "year                               \n",
       "2010    1.015683e+10   1.542017e+10\n",
       "2011    1.006409e+10   2.361891e+10\n",
       "2012    1.087661e+10   2.826154e+10\n",
       "2013    1.079233e+10   2.746351e+10\n",
       "2014    1.033773e+10   2.866557e+10\n",
       "2015    1.105141e+10   3.481930e+10\n",
       "2016    1.125365e+10   3.707014e+10\n",
       "2017    1.093327e+10   3.073715e+10\n",
       "2018    1.109121e+10   2.768225e+10"
      ]
     },
     "execution_count": 131,
     "metadata": {},
     "output_type": "execute_result"
    }
   ],
   "source": [
    "# Group data by year and calculate total gross revenue for each year\n",
    "yearly_gross = bom_df.groupby('year')[['domestic_gross', 'foreign_gross']].sum()\n",
    "yearly_gross"
   ]
  },
  {
   "cell_type": "markdown",
   "metadata": {},
   "source": [
    "To incorporate the 'tn.movie_budgets.csv' dataset into the analysis of the overall box office performance of movies, we have to follow these steps: \n",
    "1. Load the Additional Dataset \n",
    "2. Data Cleaning and Preparation \n",
    "3. Data Merge or Join \n",
    "4. Calculate Yearly Gross \n",
    "5. Data Grouping and Analysis \n",
    "6. Plot the Trends Now let's start with the first step:"
   ]
  },
  {
   "cell_type": "code",
   "execution_count": 132,
   "metadata": {},
   "outputs": [
    {
     "data": {
      "text/html": [
       "<div>\n",
       "<style scoped>\n",
       "    .dataframe tbody tr th:only-of-type {\n",
       "        vertical-align: middle;\n",
       "    }\n",
       "\n",
       "    .dataframe tbody tr th {\n",
       "        vertical-align: top;\n",
       "    }\n",
       "\n",
       "    .dataframe thead th {\n",
       "        text-align: right;\n",
       "    }\n",
       "</style>\n",
       "<table border=\"1\" class=\"dataframe\">\n",
       "  <thead>\n",
       "    <tr style=\"text-align: right;\">\n",
       "      <th></th>\n",
       "      <th>id</th>\n",
       "      <th>release_date</th>\n",
       "      <th>movie</th>\n",
       "      <th>production_budget</th>\n",
       "      <th>domestic_gross</th>\n",
       "      <th>worldwide_gross</th>\n",
       "    </tr>\n",
       "  </thead>\n",
       "  <tbody>\n",
       "    <tr>\n",
       "      <th>0</th>\n",
       "      <td>1</td>\n",
       "      <td>Dec 18, 2009</td>\n",
       "      <td>Avatar</td>\n",
       "      <td>$425,000,000</td>\n",
       "      <td>$760,507,625</td>\n",
       "      <td>$2,776,345,279</td>\n",
       "    </tr>\n",
       "    <tr>\n",
       "      <th>1</th>\n",
       "      <td>2</td>\n",
       "      <td>May 20, 2011</td>\n",
       "      <td>Pirates of the Caribbean: On Stranger Tides</td>\n",
       "      <td>$410,600,000</td>\n",
       "      <td>$241,063,875</td>\n",
       "      <td>$1,045,663,875</td>\n",
       "    </tr>\n",
       "    <tr>\n",
       "      <th>2</th>\n",
       "      <td>3</td>\n",
       "      <td>Jun 7, 2019</td>\n",
       "      <td>Dark Phoenix</td>\n",
       "      <td>$350,000,000</td>\n",
       "      <td>$42,762,350</td>\n",
       "      <td>$149,762,350</td>\n",
       "    </tr>\n",
       "    <tr>\n",
       "      <th>3</th>\n",
       "      <td>4</td>\n",
       "      <td>May 1, 2015</td>\n",
       "      <td>Avengers: Age of Ultron</td>\n",
       "      <td>$330,600,000</td>\n",
       "      <td>$459,005,868</td>\n",
       "      <td>$1,403,013,963</td>\n",
       "    </tr>\n",
       "    <tr>\n",
       "      <th>4</th>\n",
       "      <td>5</td>\n",
       "      <td>Dec 15, 2017</td>\n",
       "      <td>Star Wars Ep. VIII: The Last Jedi</td>\n",
       "      <td>$317,000,000</td>\n",
       "      <td>$620,181,382</td>\n",
       "      <td>$1,316,721,747</td>\n",
       "    </tr>\n",
       "    <tr>\n",
       "      <th>...</th>\n",
       "      <td>...</td>\n",
       "      <td>...</td>\n",
       "      <td>...</td>\n",
       "      <td>...</td>\n",
       "      <td>...</td>\n",
       "      <td>...</td>\n",
       "    </tr>\n",
       "    <tr>\n",
       "      <th>5777</th>\n",
       "      <td>78</td>\n",
       "      <td>Dec 31, 2018</td>\n",
       "      <td>Red 11</td>\n",
       "      <td>$7,000</td>\n",
       "      <td>$0</td>\n",
       "      <td>$0</td>\n",
       "    </tr>\n",
       "    <tr>\n",
       "      <th>5778</th>\n",
       "      <td>79</td>\n",
       "      <td>Apr 2, 1999</td>\n",
       "      <td>Following</td>\n",
       "      <td>$6,000</td>\n",
       "      <td>$48,482</td>\n",
       "      <td>$240,495</td>\n",
       "    </tr>\n",
       "    <tr>\n",
       "      <th>5779</th>\n",
       "      <td>80</td>\n",
       "      <td>Jul 13, 2005</td>\n",
       "      <td>Return to the Land of Wonders</td>\n",
       "      <td>$5,000</td>\n",
       "      <td>$1,338</td>\n",
       "      <td>$1,338</td>\n",
       "    </tr>\n",
       "    <tr>\n",
       "      <th>5780</th>\n",
       "      <td>81</td>\n",
       "      <td>Sep 29, 2015</td>\n",
       "      <td>A Plague So Pleasant</td>\n",
       "      <td>$1,400</td>\n",
       "      <td>$0</td>\n",
       "      <td>$0</td>\n",
       "    </tr>\n",
       "    <tr>\n",
       "      <th>5781</th>\n",
       "      <td>82</td>\n",
       "      <td>Aug 5, 2005</td>\n",
       "      <td>My Date With Drew</td>\n",
       "      <td>$1,100</td>\n",
       "      <td>$181,041</td>\n",
       "      <td>$181,041</td>\n",
       "    </tr>\n",
       "  </tbody>\n",
       "</table>\n",
       "<p>5782 rows × 6 columns</p>\n",
       "</div>"
      ],
      "text/plain": [
       "      id  release_date                                        movie  \\\n",
       "0      1  Dec 18, 2009                                       Avatar   \n",
       "1      2  May 20, 2011  Pirates of the Caribbean: On Stranger Tides   \n",
       "2      3   Jun 7, 2019                                 Dark Phoenix   \n",
       "3      4   May 1, 2015                      Avengers: Age of Ultron   \n",
       "4      5  Dec 15, 2017            Star Wars Ep. VIII: The Last Jedi   \n",
       "...   ..           ...                                          ...   \n",
       "5777  78  Dec 31, 2018                                       Red 11   \n",
       "5778  79   Apr 2, 1999                                    Following   \n",
       "5779  80  Jul 13, 2005                Return to the Land of Wonders   \n",
       "5780  81  Sep 29, 2015                         A Plague So Pleasant   \n",
       "5781  82   Aug 5, 2005                            My Date With Drew   \n",
       "\n",
       "     production_budget domestic_gross worldwide_gross  \n",
       "0         $425,000,000   $760,507,625  $2,776,345,279  \n",
       "1         $410,600,000   $241,063,875  $1,045,663,875  \n",
       "2         $350,000,000    $42,762,350    $149,762,350  \n",
       "3         $330,600,000   $459,005,868  $1,403,013,963  \n",
       "4         $317,000,000   $620,181,382  $1,316,721,747  \n",
       "...                ...            ...             ...  \n",
       "5777            $7,000             $0              $0  \n",
       "5778            $6,000        $48,482        $240,495  \n",
       "5779            $5,000         $1,338          $1,338  \n",
       "5780            $1,400             $0              $0  \n",
       "5781            $1,100       $181,041        $181,041  \n",
       "\n",
       "[5782 rows x 6 columns]"
      ]
     },
     "execution_count": 132,
     "metadata": {},
     "output_type": "execute_result"
    }
   ],
   "source": [
    "# Load the 'tn.movie_budgets.csv' dataset\n",
    "movie_budget_df = pd.read_csv('tn.movie_budgets.csv')\n",
    "movie_budget_df"
   ]
  },
  {
   "cell_type": "markdown",
   "metadata": {},
   "source": [
    "We have to ensure that the 'release_date,' 'production_budget,' 'domestic_gross,' 'worldwide_gross,' and other relevant columns are properly formatted and have the correct data types.\n",
    "First we have to load the first five rows:"
   ]
  },
  {
   "cell_type": "code",
   "execution_count": 133,
   "metadata": {},
   "outputs": [
    {
     "data": {
      "text/html": [
       "<div>\n",
       "<style scoped>\n",
       "    .dataframe tbody tr th:only-of-type {\n",
       "        vertical-align: middle;\n",
       "    }\n",
       "\n",
       "    .dataframe tbody tr th {\n",
       "        vertical-align: top;\n",
       "    }\n",
       "\n",
       "    .dataframe thead th {\n",
       "        text-align: right;\n",
       "    }\n",
       "</style>\n",
       "<table border=\"1\" class=\"dataframe\">\n",
       "  <thead>\n",
       "    <tr style=\"text-align: right;\">\n",
       "      <th></th>\n",
       "      <th>id</th>\n",
       "      <th>release_date</th>\n",
       "      <th>movie</th>\n",
       "      <th>production_budget</th>\n",
       "      <th>domestic_gross</th>\n",
       "      <th>worldwide_gross</th>\n",
       "    </tr>\n",
       "  </thead>\n",
       "  <tbody>\n",
       "    <tr>\n",
       "      <th>0</th>\n",
       "      <td>1</td>\n",
       "      <td>Dec 18, 2009</td>\n",
       "      <td>Avatar</td>\n",
       "      <td>$425,000,000</td>\n",
       "      <td>$760,507,625</td>\n",
       "      <td>$2,776,345,279</td>\n",
       "    </tr>\n",
       "    <tr>\n",
       "      <th>1</th>\n",
       "      <td>2</td>\n",
       "      <td>May 20, 2011</td>\n",
       "      <td>Pirates of the Caribbean: On Stranger Tides</td>\n",
       "      <td>$410,600,000</td>\n",
       "      <td>$241,063,875</td>\n",
       "      <td>$1,045,663,875</td>\n",
       "    </tr>\n",
       "    <tr>\n",
       "      <th>2</th>\n",
       "      <td>3</td>\n",
       "      <td>Jun 7, 2019</td>\n",
       "      <td>Dark Phoenix</td>\n",
       "      <td>$350,000,000</td>\n",
       "      <td>$42,762,350</td>\n",
       "      <td>$149,762,350</td>\n",
       "    </tr>\n",
       "    <tr>\n",
       "      <th>3</th>\n",
       "      <td>4</td>\n",
       "      <td>May 1, 2015</td>\n",
       "      <td>Avengers: Age of Ultron</td>\n",
       "      <td>$330,600,000</td>\n",
       "      <td>$459,005,868</td>\n",
       "      <td>$1,403,013,963</td>\n",
       "    </tr>\n",
       "    <tr>\n",
       "      <th>4</th>\n",
       "      <td>5</td>\n",
       "      <td>Dec 15, 2017</td>\n",
       "      <td>Star Wars Ep. VIII: The Last Jedi</td>\n",
       "      <td>$317,000,000</td>\n",
       "      <td>$620,181,382</td>\n",
       "      <td>$1,316,721,747</td>\n",
       "    </tr>\n",
       "  </tbody>\n",
       "</table>\n",
       "</div>"
      ],
      "text/plain": [
       "   id  release_date                                        movie  \\\n",
       "0   1  Dec 18, 2009                                       Avatar   \n",
       "1   2  May 20, 2011  Pirates of the Caribbean: On Stranger Tides   \n",
       "2   3   Jun 7, 2019                                 Dark Phoenix   \n",
       "3   4   May 1, 2015                      Avengers: Age of Ultron   \n",
       "4   5  Dec 15, 2017            Star Wars Ep. VIII: The Last Jedi   \n",
       "\n",
       "  production_budget domestic_gross worldwide_gross  \n",
       "0      $425,000,000   $760,507,625  $2,776,345,279  \n",
       "1      $410,600,000   $241,063,875  $1,045,663,875  \n",
       "2      $350,000,000    $42,762,350    $149,762,350  \n",
       "3      $330,600,000   $459,005,868  $1,403,013,963  \n",
       "4      $317,000,000   $620,181,382  $1,316,721,747  "
      ]
     },
     "execution_count": 133,
     "metadata": {},
     "output_type": "execute_result"
    }
   ],
   "source": [
    "# Load the first 5 entities\n",
    "movie_budget_df.head()"
   ]
  },
  {
   "cell_type": "code",
   "execution_count": 134,
   "metadata": {},
   "outputs": [
    {
     "data": {
      "text/plain": [
       "(5782, 6)"
      ]
     },
     "execution_count": 134,
     "metadata": {},
     "output_type": "execute_result"
    }
   ],
   "source": [
    "# Shape of the dataframe\n",
    "movie_budget_df.shape"
   ]
  },
  {
   "cell_type": "code",
   "execution_count": 135,
   "metadata": {},
   "outputs": [
    {
     "name": "stdout",
     "output_type": "stream",
     "text": [
      "<class 'pandas.core.frame.DataFrame'>\n",
      "RangeIndex: 5782 entries, 0 to 5781\n",
      "Data columns (total 6 columns):\n",
      " #   Column             Non-Null Count  Dtype \n",
      "---  ------             --------------  ----- \n",
      " 0   id                 5782 non-null   int64 \n",
      " 1   release_date       5782 non-null   object\n",
      " 2   movie              5782 non-null   object\n",
      " 3   production_budget  5782 non-null   object\n",
      " 4   domestic_gross     5782 non-null   object\n",
      " 5   worldwide_gross    5782 non-null   object\n",
      "dtypes: int64(1), object(5)\n",
      "memory usage: 271.2+ KB\n"
     ]
    }
   ],
   "source": [
    "# Info to see the datatype and missing values\n",
    "movie_budget_df.info()"
   ]
  },
  {
   "cell_type": "markdown",
   "metadata": {},
   "source": [
    "In the above dataset,there is no missing values,but the data types of each column seem to have an issue. It is indicating that we have 5 columns with data type object which is either string or categorical data and 1 column with data type int64. The 'production_budget', 'domestic_gross', 'worldwide_gross' are stored as strings because the have symbols and commas. To perform numerical calculations and analysis, we should convert these columns to numeric data types (e.g., float) after removing the currency symbols and commas. Additionally, the 'release_date' column should be converted to a datetime data type for date-based analysis. \n",
    "\n",
    "Below is the conversion to correct the issue:"
   ]
  },
  {
   "cell_type": "code",
   "execution_count": 136,
   "metadata": {},
   "outputs": [
    {
     "name": "stdout",
     "output_type": "stream",
     "text": [
      "id                            int64\n",
      "release_date         datetime64[ns]\n",
      "movie                        object\n",
      "production_budget           float64\n",
      "domestic_gross              float64\n",
      "worldwide_gross             float64\n",
      "dtype: object\n",
      "   id release_date                                        movie  \\\n",
      "0   1   2009-12-18                                       Avatar   \n",
      "1   2   2011-05-20  Pirates of the Caribbean: On Stranger Tides   \n",
      "2   3   2019-06-07                                 Dark Phoenix   \n",
      "3   4   2015-05-01                      Avengers: Age of Ultron   \n",
      "4   5   2017-12-15            Star Wars Ep. VIII: The Last Jedi   \n",
      "\n",
      "   production_budget  domestic_gross  worldwide_gross  \n",
      "0        425000000.0     760507625.0     2.776345e+09  \n",
      "1        410600000.0     241063875.0     1.045664e+09  \n",
      "2        350000000.0      42762350.0     1.497624e+08  \n",
      "3        330600000.0     459005868.0     1.403014e+09  \n",
      "4        317000000.0     620181382.0     1.316722e+09  \n"
     ]
    }
   ],
   "source": [
    "# Remove currency symbols ($) and commas from monetary columns and convert to float\n",
    "monetary_columns = ['production_budget', 'domestic_gross', 'worldwide_gross']\n",
    "for col in monetary_columns:\n",
    "    movie_budget_df[col] = movie_budget_df[col].str.replace('$', '').str.replace(',', '').astype(float)\n",
    "\n",
    "# Convert 'release_date' to datetime\n",
    "movie_budget_df['release_date'] = pd.to_datetime(movie_budget_df['release_date'])\n",
    "\n",
    "# Verify the data types and check the first few rows\n",
    "print(movie_budget_df.dtypes)\n",
    "print(movie_budget_df.head())\n"
   ]
  },
  {
   "cell_type": "markdown",
   "metadata": {},
   "source": [
    "# 2.0 Data Analysis\n",
    "Merge the two dataframes ('bom_df' and 'movie_budget_df') based on a common key, such as movie title, to combine the box office performance data with budget data."
   ]
  },
  {
   "cell_type": "code",
   "execution_count": 137,
   "metadata": {},
   "outputs": [
    {
     "data": {
      "text/html": [
       "<div>\n",
       "<style scoped>\n",
       "    .dataframe tbody tr th:only-of-type {\n",
       "        vertical-align: middle;\n",
       "    }\n",
       "\n",
       "    .dataframe tbody tr th {\n",
       "        vertical-align: top;\n",
       "    }\n",
       "\n",
       "    .dataframe thead th {\n",
       "        text-align: right;\n",
       "    }\n",
       "</style>\n",
       "<table border=\"1\" class=\"dataframe\">\n",
       "  <thead>\n",
       "    <tr style=\"text-align: right;\">\n",
       "      <th></th>\n",
       "      <th>title</th>\n",
       "      <th>studio</th>\n",
       "      <th>domestic_gross_x</th>\n",
       "      <th>foreign_gross</th>\n",
       "      <th>year</th>\n",
       "      <th>id</th>\n",
       "      <th>release_date</th>\n",
       "      <th>movie</th>\n",
       "      <th>production_budget</th>\n",
       "      <th>domestic_gross_y</th>\n",
       "      <th>worldwide_gross</th>\n",
       "    </tr>\n",
       "  </thead>\n",
       "  <tbody>\n",
       "    <tr>\n",
       "      <th>0</th>\n",
       "      <td>Toy Story 3</td>\n",
       "      <td>BV</td>\n",
       "      <td>415000000.0</td>\n",
       "      <td>6.520000e+08</td>\n",
       "      <td>2010</td>\n",
       "      <td>47</td>\n",
       "      <td>2010-06-18</td>\n",
       "      <td>Toy Story 3</td>\n",
       "      <td>200000000.0</td>\n",
       "      <td>415004880.0</td>\n",
       "      <td>1.068880e+09</td>\n",
       "    </tr>\n",
       "    <tr>\n",
       "      <th>1</th>\n",
       "      <td>Inception</td>\n",
       "      <td>WB</td>\n",
       "      <td>292600000.0</td>\n",
       "      <td>5.357000e+08</td>\n",
       "      <td>2010</td>\n",
       "      <td>38</td>\n",
       "      <td>2010-07-16</td>\n",
       "      <td>Inception</td>\n",
       "      <td>160000000.0</td>\n",
       "      <td>292576195.0</td>\n",
       "      <td>8.355246e+08</td>\n",
       "    </tr>\n",
       "    <tr>\n",
       "      <th>2</th>\n",
       "      <td>Shrek Forever After</td>\n",
       "      <td>P/DW</td>\n",
       "      <td>238700000.0</td>\n",
       "      <td>5.139000e+08</td>\n",
       "      <td>2010</td>\n",
       "      <td>27</td>\n",
       "      <td>2010-05-21</td>\n",
       "      <td>Shrek Forever After</td>\n",
       "      <td>165000000.0</td>\n",
       "      <td>238736787.0</td>\n",
       "      <td>7.562447e+08</td>\n",
       "    </tr>\n",
       "    <tr>\n",
       "      <th>3</th>\n",
       "      <td>The Twilight Saga: Eclipse</td>\n",
       "      <td>Sum.</td>\n",
       "      <td>300500000.0</td>\n",
       "      <td>3.980000e+08</td>\n",
       "      <td>2010</td>\n",
       "      <td>53</td>\n",
       "      <td>2010-06-30</td>\n",
       "      <td>The Twilight Saga: Eclipse</td>\n",
       "      <td>68000000.0</td>\n",
       "      <td>300531751.0</td>\n",
       "      <td>7.061028e+08</td>\n",
       "    </tr>\n",
       "    <tr>\n",
       "      <th>4</th>\n",
       "      <td>Iron Man 2</td>\n",
       "      <td>Par.</td>\n",
       "      <td>312400000.0</td>\n",
       "      <td>3.115000e+08</td>\n",
       "      <td>2010</td>\n",
       "      <td>15</td>\n",
       "      <td>2010-05-07</td>\n",
       "      <td>Iron Man 2</td>\n",
       "      <td>170000000.0</td>\n",
       "      <td>312433331.0</td>\n",
       "      <td>6.211564e+08</td>\n",
       "    </tr>\n",
       "    <tr>\n",
       "      <th>...</th>\n",
       "      <td>...</td>\n",
       "      <td>...</td>\n",
       "      <td>...</td>\n",
       "      <td>...</td>\n",
       "      <td>...</td>\n",
       "      <td>...</td>\n",
       "      <td>...</td>\n",
       "      <td>...</td>\n",
       "      <td>...</td>\n",
       "      <td>...</td>\n",
       "      <td>...</td>\n",
       "    </tr>\n",
       "    <tr>\n",
       "      <th>1239</th>\n",
       "      <td>Gotti</td>\n",
       "      <td>VE</td>\n",
       "      <td>4300000.0</td>\n",
       "      <td>7.505704e+07</td>\n",
       "      <td>2018</td>\n",
       "      <td>64</td>\n",
       "      <td>2018-06-15</td>\n",
       "      <td>Gotti</td>\n",
       "      <td>10000000.0</td>\n",
       "      <td>4286367.0</td>\n",
       "      <td>6.089100e+06</td>\n",
       "    </tr>\n",
       "    <tr>\n",
       "      <th>1240</th>\n",
       "      <td>Ben is Back</td>\n",
       "      <td>RAtt.</td>\n",
       "      <td>3700000.0</td>\n",
       "      <td>7.505704e+07</td>\n",
       "      <td>2018</td>\n",
       "      <td>95</td>\n",
       "      <td>2018-12-07</td>\n",
       "      <td>Ben is Back</td>\n",
       "      <td>13000000.0</td>\n",
       "      <td>3703182.0</td>\n",
       "      <td>9.633111e+06</td>\n",
       "    </tr>\n",
       "    <tr>\n",
       "      <th>1241</th>\n",
       "      <td>Bilal: A New Breed of Hero</td>\n",
       "      <td>VE</td>\n",
       "      <td>491000.0</td>\n",
       "      <td>1.700000e+06</td>\n",
       "      <td>2018</td>\n",
       "      <td>100</td>\n",
       "      <td>2018-02-02</td>\n",
       "      <td>Bilal: A New Breed of Hero</td>\n",
       "      <td>30000000.0</td>\n",
       "      <td>490973.0</td>\n",
       "      <td>6.485990e+05</td>\n",
       "    </tr>\n",
       "    <tr>\n",
       "      <th>1242</th>\n",
       "      <td>Mandy</td>\n",
       "      <td>RLJ</td>\n",
       "      <td>1200000.0</td>\n",
       "      <td>7.505704e+07</td>\n",
       "      <td>2018</td>\n",
       "      <td>71</td>\n",
       "      <td>2018-09-14</td>\n",
       "      <td>Mandy</td>\n",
       "      <td>6000000.0</td>\n",
       "      <td>1214525.0</td>\n",
       "      <td>1.427656e+06</td>\n",
       "    </tr>\n",
       "    <tr>\n",
       "      <th>1243</th>\n",
       "      <td>Lean on Pete</td>\n",
       "      <td>A24</td>\n",
       "      <td>1200000.0</td>\n",
       "      <td>7.505704e+07</td>\n",
       "      <td>2018</td>\n",
       "      <td>13</td>\n",
       "      <td>2018-04-06</td>\n",
       "      <td>Lean on Pete</td>\n",
       "      <td>8000000.0</td>\n",
       "      <td>1163056.0</td>\n",
       "      <td>2.455027e+06</td>\n",
       "    </tr>\n",
       "  </tbody>\n",
       "</table>\n",
       "<p>1244 rows × 11 columns</p>\n",
       "</div>"
      ],
      "text/plain": [
       "                           title studio  domestic_gross_x  foreign_gross  \\\n",
       "0                    Toy Story 3     BV       415000000.0   6.520000e+08   \n",
       "1                      Inception     WB       292600000.0   5.357000e+08   \n",
       "2            Shrek Forever After   P/DW       238700000.0   5.139000e+08   \n",
       "3     The Twilight Saga: Eclipse   Sum.       300500000.0   3.980000e+08   \n",
       "4                     Iron Man 2   Par.       312400000.0   3.115000e+08   \n",
       "...                          ...    ...               ...            ...   \n",
       "1239                       Gotti     VE         4300000.0   7.505704e+07   \n",
       "1240                 Ben is Back  RAtt.         3700000.0   7.505704e+07   \n",
       "1241  Bilal: A New Breed of Hero     VE          491000.0   1.700000e+06   \n",
       "1242                       Mandy    RLJ         1200000.0   7.505704e+07   \n",
       "1243                Lean on Pete    A24         1200000.0   7.505704e+07   \n",
       "\n",
       "      year   id release_date                       movie  production_budget  \\\n",
       "0     2010   47   2010-06-18                 Toy Story 3        200000000.0   \n",
       "1     2010   38   2010-07-16                   Inception        160000000.0   \n",
       "2     2010   27   2010-05-21         Shrek Forever After        165000000.0   \n",
       "3     2010   53   2010-06-30  The Twilight Saga: Eclipse         68000000.0   \n",
       "4     2010   15   2010-05-07                  Iron Man 2        170000000.0   \n",
       "...    ...  ...          ...                         ...                ...   \n",
       "1239  2018   64   2018-06-15                       Gotti         10000000.0   \n",
       "1240  2018   95   2018-12-07                 Ben is Back         13000000.0   \n",
       "1241  2018  100   2018-02-02  Bilal: A New Breed of Hero         30000000.0   \n",
       "1242  2018   71   2018-09-14                       Mandy          6000000.0   \n",
       "1243  2018   13   2018-04-06                Lean on Pete          8000000.0   \n",
       "\n",
       "      domestic_gross_y  worldwide_gross  \n",
       "0          415004880.0     1.068880e+09  \n",
       "1          292576195.0     8.355246e+08  \n",
       "2          238736787.0     7.562447e+08  \n",
       "3          300531751.0     7.061028e+08  \n",
       "4          312433331.0     6.211564e+08  \n",
       "...                ...              ...  \n",
       "1239         4286367.0     6.089100e+06  \n",
       "1240         3703182.0     9.633111e+06  \n",
       "1241          490973.0     6.485990e+05  \n",
       "1242         1214525.0     1.427656e+06  \n",
       "1243         1163056.0     2.455027e+06  \n",
       "\n",
       "[1244 rows x 11 columns]"
      ]
     },
     "execution_count": 137,
     "metadata": {},
     "output_type": "execute_result"
    }
   ],
   "source": [
    "# Merge the two datasets based on a common key (e.g., movie title)\n",
    "merged_df1 = pd.merge(bom_df, movie_budget_df, left_on='title', right_on='movie', how='inner')\n",
    "merged_df1"
   ]
  },
  {
   "cell_type": "markdown",
   "metadata": {},
   "source": [
    "After merging, you can calculate the yearly gross for each movie by summing the 'domestic_gross' and 'foreign_gross' columns from 'bom_df'.Then group the data by year and calculate the total yearly gross revenue and total production budget for each year."
   ]
  },
  {
   "cell_type": "code",
   "execution_count": 138,
   "metadata": {},
   "outputs": [],
   "source": [
    "# Calculate yearly gross by adding domestic gross and foreign gross\n",
    "merged_df1['yearly_gross'] = merged_df1['domestic_gross_x'] + merged_df1['foreign_gross']\n",
    "# Group by year and calculate total yearly gross revenue and toatl production budget\n",
    "yearly_summary = merged_df1.groupby('year')[['yearly_gross', 'production_budget']].sum()"
   ]
  },
  {
   "cell_type": "markdown",
   "metadata": {},
   "source": [
    "# 3.0 Data visualization\n",
    "\n",
    "Here we plot the representation of our analysis in a more elaborate manner, in order to see trends between the yearly gross and the production budget after merging the two datasets\n",
    "\n",
    "Below is the plot for our graph:"
   ]
  },
  {
   "cell_type": "code",
   "execution_count": 139,
   "metadata": {},
   "outputs": [
    {
     "data": {
      "image/png": "[encoded data removed]",
      "text/plain": [
       "<Figure size 864x432 with 1 Axes>"
      ]
     },
     "metadata": {
      "needs_background": "light"
     },
     "output_type": "display_data"
    }
   ],
   "source": [
    "# Import libraries\n",
    "import matplotlib.pyplot as plt\n",
    "# Plot the trends in yearly gross and production budget \n",
    "plt.figure(figsize=(12, 6))\n",
    "plt.plot(yearly_summary.index, yearly_summary['yearly_gross'], label='Yearly Gross', marker='o')\n",
    "plt.plot(yearly_summary.index, yearly_summary['production_budget'], label='Production Budget', marker='o')\n",
    "# Plot the title and labels\n",
    "plt.title('Yearly Box Office Performance vs. Production Budget')\n",
    "plt.xlabel('Year')\n",
    "plt.ylabel('Amount (in billions)')\n",
    "plt.legend()\n",
    "plt.grid(True)\n",
    "# Plot graph\n",
    "plt.show()\n"
   ]
  },
  {
   "cell_type": "markdown",
   "metadata": {},
   "source": [
    "# 1.1 Load and Prepare the Dataset:\n",
    "To identify emerging genre trends by analyzing the popularity of genres over time using data from the 'tmdb.movies.csv' dataset, you can follow these steps: \n",
    "\n",
    "Load the 'tmdb.movies.csv' dataset. Extract the relevant columns, such as 'release_date' and 'genres'."
   ]
  },
  {
   "cell_type": "code",
   "execution_count": 140,
   "metadata": {},
   "outputs": [
    {
     "data": {
      "text/html": [
       "<div>\n",
       "<style scoped>\n",
       "    .dataframe tbody tr th:only-of-type {\n",
       "        vertical-align: middle;\n",
       "    }\n",
       "\n",
       "    .dataframe tbody tr th {\n",
       "        vertical-align: top;\n",
       "    }\n",
       "\n",
       "    .dataframe thead th {\n",
       "        text-align: right;\n",
       "    }\n",
       "</style>\n",
       "<table border=\"1\" class=\"dataframe\">\n",
       "  <thead>\n",
       "    <tr style=\"text-align: right;\">\n",
       "      <th></th>\n",
       "      <th>genre_ids</th>\n",
       "      <th>id</th>\n",
       "      <th>original_language</th>\n",
       "      <th>original_title</th>\n",
       "      <th>popularity</th>\n",
       "      <th>release_date</th>\n",
       "      <th>title</th>\n",
       "      <th>vote_average</th>\n",
       "      <th>vote_count</th>\n",
       "    </tr>\n",
       "  </thead>\n",
       "  <tbody>\n",
       "    <tr>\n",
       "      <th>0</th>\n",
       "      <td>[12, 14, 10751]</td>\n",
       "      <td>12444</td>\n",
       "      <td>en</td>\n",
       "      <td>Harry Potter and the Deathly Hallows: Part 1</td>\n",
       "      <td>33.533</td>\n",
       "      <td>2010-11-19</td>\n",
       "      <td>Harry Potter and the Deathly Hallows: Part 1</td>\n",
       "      <td>7.7</td>\n",
       "      <td>10788</td>\n",
       "    </tr>\n",
       "    <tr>\n",
       "      <th>1</th>\n",
       "      <td>[14, 12, 16, 10751]</td>\n",
       "      <td>10191</td>\n",
       "      <td>en</td>\n",
       "      <td>How to Train Your Dragon</td>\n",
       "      <td>28.734</td>\n",
       "      <td>2010-03-26</td>\n",
       "      <td>How to Train Your Dragon</td>\n",
       "      <td>7.7</td>\n",
       "      <td>7610</td>\n",
       "    </tr>\n",
       "    <tr>\n",
       "      <th>2</th>\n",
       "      <td>[12, 28, 878]</td>\n",
       "      <td>10138</td>\n",
       "      <td>en</td>\n",
       "      <td>Iron Man 2</td>\n",
       "      <td>28.515</td>\n",
       "      <td>2010-05-07</td>\n",
       "      <td>Iron Man 2</td>\n",
       "      <td>6.8</td>\n",
       "      <td>12368</td>\n",
       "    </tr>\n",
       "    <tr>\n",
       "      <th>3</th>\n",
       "      <td>[16, 35, 10751]</td>\n",
       "      <td>862</td>\n",
       "      <td>en</td>\n",
       "      <td>Toy Story</td>\n",
       "      <td>28.005</td>\n",
       "      <td>1995-11-22</td>\n",
       "      <td>Toy Story</td>\n",
       "      <td>7.9</td>\n",
       "      <td>10174</td>\n",
       "    </tr>\n",
       "    <tr>\n",
       "      <th>4</th>\n",
       "      <td>[28, 878, 12]</td>\n",
       "      <td>27205</td>\n",
       "      <td>en</td>\n",
       "      <td>Inception</td>\n",
       "      <td>27.920</td>\n",
       "      <td>2010-07-16</td>\n",
       "      <td>Inception</td>\n",
       "      <td>8.3</td>\n",
       "      <td>22186</td>\n",
       "    </tr>\n",
       "  </tbody>\n",
       "</table>\n",
       "</div>"
      ],
      "text/plain": [
       "             genre_ids     id original_language  \\\n",
       "0      [12, 14, 10751]  12444                en   \n",
       "1  [14, 12, 16, 10751]  10191                en   \n",
       "2        [12, 28, 878]  10138                en   \n",
       "3      [16, 35, 10751]    862                en   \n",
       "4        [28, 878, 12]  27205                en   \n",
       "\n",
       "                                 original_title  popularity release_date  \\\n",
       "0  Harry Potter and the Deathly Hallows: Part 1      33.533   2010-11-19   \n",
       "1                      How to Train Your Dragon      28.734   2010-03-26   \n",
       "2                                    Iron Man 2      28.515   2010-05-07   \n",
       "3                                     Toy Story      28.005   1995-11-22   \n",
       "4                                     Inception      27.920   2010-07-16   \n",
       "\n",
       "                                          title  vote_average  vote_count  \n",
       "0  Harry Potter and the Deathly Hallows: Part 1           7.7       10788  \n",
       "1                      How to Train Your Dragon           7.7        7610  \n",
       "2                                    Iron Man 2           6.8       12368  \n",
       "3                                     Toy Story           7.9       10174  \n",
       "4                                     Inception           8.3       22186  "
      ]
     },
     "execution_count": 140,
     "metadata": {},
     "output_type": "execute_result"
    }
   ],
   "source": [
    "tmdb_df = pd.read_csv('tmdb.movies.csv', index_col=0)\n",
    "tmdb_df.head()"
   ]
  },
  {
   "cell_type": "code",
   "execution_count": 141,
   "metadata": {},
   "outputs": [
    {
     "data": {
      "text/plain": [
       "(26517, 9)"
      ]
     },
     "execution_count": 141,
     "metadata": {},
     "output_type": "execute_result"
    }
   ],
   "source": [
    "# Shape of dataframe\n",
    "tmdb_df.shape"
   ]
  },
  {
   "cell_type": "code",
   "execution_count": 142,
   "metadata": {},
   "outputs": [
    {
     "name": "stdout",
     "output_type": "stream",
     "text": [
      "<class 'pandas.core.frame.DataFrame'>\n",
      "Int64Index: 26517 entries, 0 to 26516\n",
      "Data columns (total 9 columns):\n",
      " #   Column             Non-Null Count  Dtype  \n",
      "---  ------             --------------  -----  \n",
      " 0   genre_ids          26517 non-null  object \n",
      " 1   id                 26517 non-null  int64  \n",
      " 2   original_language  26517 non-null  object \n",
      " 3   original_title     26517 non-null  object \n",
      " 4   popularity         26517 non-null  float64\n",
      " 5   release_date       26517 non-null  object \n",
      " 6   title              26517 non-null  object \n",
      " 7   vote_average       26517 non-null  float64\n",
      " 8   vote_count         26517 non-null  int64  \n",
      "dtypes: float64(2), int64(2), object(5)\n",
      "memory usage: 2.0+ MB\n"
     ]
    }
   ],
   "source": [
    "# Display basic information about the dataset\n",
    "tmdb_df.info()"
   ]
  },
  {
   "cell_type": "markdown",
   "metadata": {},
   "source": [
    "There is no missing values here, the data type that needs to be be fixed is the release date to datetime format then extract release_year from the release_date:"
   ]
  },
  {
   "cell_type": "code",
   "execution_count": 143,
   "metadata": {},
   "outputs": [],
   "source": [
    "# Correct Data Types\n",
    "# Convert 'release_date' to datetime format\n",
    "tmdb_df['release_date'] = pd.to_datetime(tmdb_df['release_date'], errors='coerce')"
   ]
  },
  {
   "cell_type": "code",
   "execution_count": 144,
   "metadata": {},
   "outputs": [
    {
     "data": {
      "text/html": [
       "<div>\n",
       "<style scoped>\n",
       "    .dataframe tbody tr th:only-of-type {\n",
       "        vertical-align: middle;\n",
       "    }\n",
       "\n",
       "    .dataframe tbody tr th {\n",
       "        vertical-align: top;\n",
       "    }\n",
       "\n",
       "    .dataframe thead th {\n",
       "        text-align: right;\n",
       "    }\n",
       "</style>\n",
       "<table border=\"1\" class=\"dataframe\">\n",
       "  <thead>\n",
       "    <tr style=\"text-align: right;\">\n",
       "      <th></th>\n",
       "      <th>genre_ids</th>\n",
       "      <th>id</th>\n",
       "      <th>original_language</th>\n",
       "      <th>original_title</th>\n",
       "      <th>popularity</th>\n",
       "      <th>release_date</th>\n",
       "      <th>title</th>\n",
       "      <th>vote_average</th>\n",
       "      <th>vote_count</th>\n",
       "      <th>release_year</th>\n",
       "    </tr>\n",
       "  </thead>\n",
       "  <tbody>\n",
       "    <tr>\n",
       "      <th>0</th>\n",
       "      <td>[12, 14, 10751]</td>\n",
       "      <td>12444</td>\n",
       "      <td>en</td>\n",
       "      <td>Harry Potter and the Deathly Hallows: Part 1</td>\n",
       "      <td>33.533</td>\n",
       "      <td>2010-11-19</td>\n",
       "      <td>Harry Potter and the Deathly Hallows: Part 1</td>\n",
       "      <td>7.7</td>\n",
       "      <td>10788</td>\n",
       "      <td>2010</td>\n",
       "    </tr>\n",
       "    <tr>\n",
       "      <th>1</th>\n",
       "      <td>[14, 12, 16, 10751]</td>\n",
       "      <td>10191</td>\n",
       "      <td>en</td>\n",
       "      <td>How to Train Your Dragon</td>\n",
       "      <td>28.734</td>\n",
       "      <td>2010-03-26</td>\n",
       "      <td>How to Train Your Dragon</td>\n",
       "      <td>7.7</td>\n",
       "      <td>7610</td>\n",
       "      <td>2010</td>\n",
       "    </tr>\n",
       "    <tr>\n",
       "      <th>2</th>\n",
       "      <td>[12, 28, 878]</td>\n",
       "      <td>10138</td>\n",
       "      <td>en</td>\n",
       "      <td>Iron Man 2</td>\n",
       "      <td>28.515</td>\n",
       "      <td>2010-05-07</td>\n",
       "      <td>Iron Man 2</td>\n",
       "      <td>6.8</td>\n",
       "      <td>12368</td>\n",
       "      <td>2010</td>\n",
       "    </tr>\n",
       "    <tr>\n",
       "      <th>3</th>\n",
       "      <td>[16, 35, 10751]</td>\n",
       "      <td>862</td>\n",
       "      <td>en</td>\n",
       "      <td>Toy Story</td>\n",
       "      <td>28.005</td>\n",
       "      <td>1995-11-22</td>\n",
       "      <td>Toy Story</td>\n",
       "      <td>7.9</td>\n",
       "      <td>10174</td>\n",
       "      <td>1995</td>\n",
       "    </tr>\n",
       "    <tr>\n",
       "      <th>4</th>\n",
       "      <td>[28, 878, 12]</td>\n",
       "      <td>27205</td>\n",
       "      <td>en</td>\n",
       "      <td>Inception</td>\n",
       "      <td>27.920</td>\n",
       "      <td>2010-07-16</td>\n",
       "      <td>Inception</td>\n",
       "      <td>8.3</td>\n",
       "      <td>22186</td>\n",
       "      <td>2010</td>\n",
       "    </tr>\n",
       "  </tbody>\n",
       "</table>\n",
       "</div>"
      ],
      "text/plain": [
       "             genre_ids     id original_language  \\\n",
       "0      [12, 14, 10751]  12444                en   \n",
       "1  [14, 12, 16, 10751]  10191                en   \n",
       "2        [12, 28, 878]  10138                en   \n",
       "3      [16, 35, 10751]    862                en   \n",
       "4        [28, 878, 12]  27205                en   \n",
       "\n",
       "                                 original_title  popularity release_date  \\\n",
       "0  Harry Potter and the Deathly Hallows: Part 1      33.533   2010-11-19   \n",
       "1                      How to Train Your Dragon      28.734   2010-03-26   \n",
       "2                                    Iron Man 2      28.515   2010-05-07   \n",
       "3                                     Toy Story      28.005   1995-11-22   \n",
       "4                                     Inception      27.920   2010-07-16   \n",
       "\n",
       "                                          title  vote_average  vote_count  \\\n",
       "0  Harry Potter and the Deathly Hallows: Part 1           7.7       10788   \n",
       "1                      How to Train Your Dragon           7.7        7610   \n",
       "2                                    Iron Man 2           6.8       12368   \n",
       "3                                     Toy Story           7.9       10174   \n",
       "4                                     Inception           8.3       22186   \n",
       "\n",
       "   release_year  \n",
       "0          2010  \n",
       "1          2010  \n",
       "2          2010  \n",
       "3          1995  \n",
       "4          2010  "
      ]
     },
     "execution_count": 144,
     "metadata": {},
     "output_type": "execute_result"
    }
   ],
   "source": [
    "# Extract the release year from 'release_date'\n",
    "tmdb_df['release_year'] = tmdb_df['release_date'].dt.year\n",
    "tmdb_df.head()"
   ]
  },
  {
   "cell_type": "markdown",
   "metadata": {},
   "source": [
    "Let us first read 'rt.movie_info.tsv' and show the first few rows.Since it is a tsv file we have to use delimiter '\\t' to read it using pd.read_csv:"
   ]
  },
  {
   "cell_type": "code",
   "execution_count": 145,
   "metadata": {},
   "outputs": [
    {
     "data": {
      "text/html": [
       "<div>\n",
       "<style scoped>\n",
       "    .dataframe tbody tr th:only-of-type {\n",
       "        vertical-align: middle;\n",
       "    }\n",
       "\n",
       "    .dataframe tbody tr th {\n",
       "        vertical-align: top;\n",
       "    }\n",
       "\n",
       "    .dataframe thead th {\n",
       "        text-align: right;\n",
       "    }\n",
       "</style>\n",
       "<table border=\"1\" class=\"dataframe\">\n",
       "  <thead>\n",
       "    <tr style=\"text-align: right;\">\n",
       "      <th></th>\n",
       "      <th>id</th>\n",
       "      <th>synopsis</th>\n",
       "      <th>rating</th>\n",
       "      <th>genre</th>\n",
       "      <th>director</th>\n",
       "      <th>writer</th>\n",
       "      <th>theater_date</th>\n",
       "      <th>dvd_date</th>\n",
       "      <th>currency</th>\n",
       "      <th>box_office</th>\n",
       "      <th>runtime</th>\n",
       "      <th>studio</th>\n",
       "    </tr>\n",
       "  </thead>\n",
       "  <tbody>\n",
       "    <tr>\n",
       "      <th>0</th>\n",
       "      <td>1</td>\n",
       "      <td>This gritty, fast-paced, and innovative police...</td>\n",
       "      <td>R</td>\n",
       "      <td>Action and Adventure|Classics|Drama</td>\n",
       "      <td>William Friedkin</td>\n",
       "      <td>Ernest Tidyman</td>\n",
       "      <td>Oct 9, 1971</td>\n",
       "      <td>Sep 25, 2001</td>\n",
       "      <td>NaN</td>\n",
       "      <td>NaN</td>\n",
       "      <td>104 minutes</td>\n",
       "      <td>NaN</td>\n",
       "    </tr>\n",
       "    <tr>\n",
       "      <th>1</th>\n",
       "      <td>3</td>\n",
       "      <td>New York City, not-too-distant-future: Eric Pa...</td>\n",
       "      <td>R</td>\n",
       "      <td>Drama|Science Fiction and Fantasy</td>\n",
       "      <td>David Cronenberg</td>\n",
       "      <td>David Cronenberg|Don DeLillo</td>\n",
       "      <td>Aug 17, 2012</td>\n",
       "      <td>Jan 1, 2013</td>\n",
       "      <td>$</td>\n",
       "      <td>600,000</td>\n",
       "      <td>108 minutes</td>\n",
       "      <td>Entertainment One</td>\n",
       "    </tr>\n",
       "    <tr>\n",
       "      <th>2</th>\n",
       "      <td>5</td>\n",
       "      <td>Illeana Douglas delivers a superb performance ...</td>\n",
       "      <td>R</td>\n",
       "      <td>Drama|Musical and Performing Arts</td>\n",
       "      <td>Allison Anders</td>\n",
       "      <td>Allison Anders</td>\n",
       "      <td>Sep 13, 1996</td>\n",
       "      <td>Apr 18, 2000</td>\n",
       "      <td>NaN</td>\n",
       "      <td>NaN</td>\n",
       "      <td>116 minutes</td>\n",
       "      <td>NaN</td>\n",
       "    </tr>\n",
       "    <tr>\n",
       "      <th>3</th>\n",
       "      <td>6</td>\n",
       "      <td>Michael Douglas runs afoul of a treacherous su...</td>\n",
       "      <td>R</td>\n",
       "      <td>Drama|Mystery and Suspense</td>\n",
       "      <td>Barry Levinson</td>\n",
       "      <td>Paul Attanasio|Michael Crichton</td>\n",
       "      <td>Dec 9, 1994</td>\n",
       "      <td>Aug 27, 1997</td>\n",
       "      <td>NaN</td>\n",
       "      <td>NaN</td>\n",
       "      <td>128 minutes</td>\n",
       "      <td>NaN</td>\n",
       "    </tr>\n",
       "    <tr>\n",
       "      <th>4</th>\n",
       "      <td>7</td>\n",
       "      <td>NaN</td>\n",
       "      <td>NR</td>\n",
       "      <td>Drama|Romance</td>\n",
       "      <td>Rodney Bennett</td>\n",
       "      <td>Giles Cooper</td>\n",
       "      <td>NaN</td>\n",
       "      <td>NaN</td>\n",
       "      <td>NaN</td>\n",
       "      <td>NaN</td>\n",
       "      <td>200 minutes</td>\n",
       "      <td>NaN</td>\n",
       "    </tr>\n",
       "  </tbody>\n",
       "</table>\n",
       "</div>"
      ],
      "text/plain": [
       "   id                                           synopsis rating  \\\n",
       "0   1  This gritty, fast-paced, and innovative police...      R   \n",
       "1   3  New York City, not-too-distant-future: Eric Pa...      R   \n",
       "2   5  Illeana Douglas delivers a superb performance ...      R   \n",
       "3   6  Michael Douglas runs afoul of a treacherous su...      R   \n",
       "4   7                                                NaN     NR   \n",
       "\n",
       "                                 genre          director  \\\n",
       "0  Action and Adventure|Classics|Drama  William Friedkin   \n",
       "1    Drama|Science Fiction and Fantasy  David Cronenberg   \n",
       "2    Drama|Musical and Performing Arts    Allison Anders   \n",
       "3           Drama|Mystery and Suspense    Barry Levinson   \n",
       "4                        Drama|Romance    Rodney Bennett   \n",
       "\n",
       "                            writer  theater_date      dvd_date currency  \\\n",
       "0                   Ernest Tidyman   Oct 9, 1971  Sep 25, 2001      NaN   \n",
       "1     David Cronenberg|Don DeLillo  Aug 17, 2012   Jan 1, 2013        $   \n",
       "2                   Allison Anders  Sep 13, 1996  Apr 18, 2000      NaN   \n",
       "3  Paul Attanasio|Michael Crichton   Dec 9, 1994  Aug 27, 1997      NaN   \n",
       "4                     Giles Cooper           NaN           NaN      NaN   \n",
       "\n",
       "  box_office      runtime             studio  \n",
       "0        NaN  104 minutes                NaN  \n",
       "1    600,000  108 minutes  Entertainment One  \n",
       "2        NaN  116 minutes                NaN  \n",
       "3        NaN  128 minutes                NaN  \n",
       "4        NaN  200 minutes                NaN  "
      ]
     },
     "execution_count": 145,
     "metadata": {},
     "output_type": "execute_result"
    }
   ],
   "source": [
    "#use delimiter or sep parameter to '\\t' to specify that the file uses tabs as column separators\n",
    "movie_info_df = pd.read_csv('rt.movie_info.tsv', delimiter='\\t')\n",
    "movie_info_df.head()"
   ]
  },
  {
   "cell_type": "code",
   "execution_count": 146,
   "metadata": {},
   "outputs": [
    {
     "data": {
      "text/plain": [
       "(1560, 12)"
      ]
     },
     "execution_count": 146,
     "metadata": {},
     "output_type": "execute_result"
    }
   ],
   "source": [
    "# Check the shape of the data\n",
    "movie_info_df.shape"
   ]
  },
  {
   "cell_type": "code",
   "execution_count": 147,
   "metadata": {},
   "outputs": [
    {
     "name": "stdout",
     "output_type": "stream",
     "text": [
      "<class 'pandas.core.frame.DataFrame'>\n",
      "RangeIndex: 1560 entries, 0 to 1559\n",
      "Data columns (total 12 columns):\n",
      " #   Column        Non-Null Count  Dtype \n",
      "---  ------        --------------  ----- \n",
      " 0   id            1560 non-null   int64 \n",
      " 1   synopsis      1498 non-null   object\n",
      " 2   rating        1557 non-null   object\n",
      " 3   genre         1552 non-null   object\n",
      " 4   director      1361 non-null   object\n",
      " 5   writer        1111 non-null   object\n",
      " 6   theater_date  1201 non-null   object\n",
      " 7   dvd_date      1201 non-null   object\n",
      " 8   currency      340 non-null    object\n",
      " 9   box_office    340 non-null    object\n",
      " 10  runtime       1530 non-null   object\n",
      " 11  studio        494 non-null    object\n",
      "dtypes: int64(1), object(11)\n",
      "memory usage: 146.4+ KB\n"
     ]
    }
   ],
   "source": [
    "# Display basic information about the dataset\n",
    "movie_info_df.info()"
   ]
  },
  {
   "cell_type": "code",
   "execution_count": 148,
   "metadata": {},
   "outputs": [],
   "source": [
    "# Convert the \"box_office\" column to numeric\n",
    "movie_info_df['box_office'] = pd.to_numeric(movie_info_df['box_office'], errors='coerce')"
   ]
  },
  {
   "cell_type": "code",
   "execution_count": 149,
   "metadata": {},
   "outputs": [
    {
     "data": {
      "text/plain": [
       "id              1560\n",
       "synopsis        1498\n",
       "rating          1557\n",
       "genre           1552\n",
       "director        1361\n",
       "writer          1111\n",
       "theater_date    1201\n",
       "dvd_date        1201\n",
       "currency         340\n",
       "box_office         1\n",
       "runtime         1530\n",
       "studio           494\n",
       "dtype: int64"
      ]
     },
     "execution_count": 149,
     "metadata": {},
     "output_type": "execute_result"
    }
   ],
   "source": [
    "#checking number of entities in each column\n",
    "movie_info_df.count()"
   ]
  },
  {
   "cell_type": "code",
   "execution_count": 150,
   "metadata": {},
   "outputs": [
    {
     "data": {
      "text/plain": [
       "id                 0\n",
       "synopsis          62\n",
       "rating             3\n",
       "genre              8\n",
       "director         199\n",
       "writer           449\n",
       "theater_date     359\n",
       "dvd_date         359\n",
       "currency        1220\n",
       "box_office      1559\n",
       "runtime           30\n",
       "studio          1066\n",
       "dtype: int64"
      ]
     },
     "execution_count": 150,
     "metadata": {},
     "output_type": "execute_result"
    }
   ],
   "source": [
    "#missing values\n",
    "movie_info_df.isnull().sum()"
   ]
  },
  {
   "cell_type": "code",
   "execution_count": 151,
   "metadata": {},
   "outputs": [
    {
     "data": {
      "text/html": [
       "<div>\n",
       "<style scoped>\n",
       "    .dataframe tbody tr th:only-of-type {\n",
       "        vertical-align: middle;\n",
       "    }\n",
       "\n",
       "    .dataframe tbody tr th {\n",
       "        vertical-align: top;\n",
       "    }\n",
       "\n",
       "    .dataframe thead th {\n",
       "        text-align: right;\n",
       "    }\n",
       "</style>\n",
       "<table border=\"1\" class=\"dataframe\">\n",
       "  <thead>\n",
       "    <tr style=\"text-align: right;\">\n",
       "      <th></th>\n",
       "      <th>id</th>\n",
       "      <th>box_office</th>\n",
       "    </tr>\n",
       "  </thead>\n",
       "  <tbody>\n",
       "    <tr>\n",
       "      <th>count</th>\n",
       "      <td>1560.000000</td>\n",
       "      <td>1.0</td>\n",
       "    </tr>\n",
       "    <tr>\n",
       "      <th>mean</th>\n",
       "      <td>1007.303846</td>\n",
       "      <td>363.0</td>\n",
       "    </tr>\n",
       "    <tr>\n",
       "      <th>std</th>\n",
       "      <td>579.164527</td>\n",
       "      <td>NaN</td>\n",
       "    </tr>\n",
       "    <tr>\n",
       "      <th>min</th>\n",
       "      <td>1.000000</td>\n",
       "      <td>363.0</td>\n",
       "    </tr>\n",
       "    <tr>\n",
       "      <th>25%</th>\n",
       "      <td>504.750000</td>\n",
       "      <td>363.0</td>\n",
       "    </tr>\n",
       "    <tr>\n",
       "      <th>50%</th>\n",
       "      <td>1007.500000</td>\n",
       "      <td>363.0</td>\n",
       "    </tr>\n",
       "    <tr>\n",
       "      <th>75%</th>\n",
       "      <td>1503.250000</td>\n",
       "      <td>363.0</td>\n",
       "    </tr>\n",
       "    <tr>\n",
       "      <th>max</th>\n",
       "      <td>2000.000000</td>\n",
       "      <td>363.0</td>\n",
       "    </tr>\n",
       "  </tbody>\n",
       "</table>\n",
       "</div>"
      ],
      "text/plain": [
       "                id  box_office\n",
       "count  1560.000000         1.0\n",
       "mean   1007.303846       363.0\n",
       "std     579.164527         NaN\n",
       "min       1.000000       363.0\n",
       "25%     504.750000       363.0\n",
       "50%    1007.500000       363.0\n",
       "75%    1503.250000       363.0\n",
       "max    2000.000000       363.0"
      ]
     },
     "execution_count": 151,
     "metadata": {},
     "output_type": "execute_result"
    }
   ],
   "source": [
    "# Check the statistical measures\n",
    "movie_info_df.describe()"
   ]
  },
  {
   "cell_type": "code",
   "execution_count": 152,
   "metadata": {},
   "outputs": [
    {
     "name": "stdout",
     "output_type": "stream",
     "text": [
      "Missing values after imputation:\n",
      "id                0\n",
      "synopsis         62\n",
      "rating            3\n",
      "genre             8\n",
      "director        199\n",
      "writer          449\n",
      "theater_date    359\n",
      "dvd_date        359\n",
      "currency          0\n",
      "box_office        0\n",
      "runtime          30\n",
      "studio            0\n",
      "dtype: int64\n"
     ]
    }
   ],
   "source": [
    "#impute currency and box_office\n",
    "# Impute missing 'currency' values with the mode\n",
    "mode_currency = movie_info_df['currency'].mode().iloc[0]\n",
    "movie_info_df['currency'].fillna(mode_currency, inplace=True)\n",
    "\n",
    "# Replace NaN values in the 'studio' column with \"unknown\"\n",
    "movie_info_df['studio'].fillna('unknown', inplace=True)\n",
    "\n",
    "# Impute missing 'box_office' values with the mean (or median)\n",
    "mean_box_office = movie_info_df['box_office'].mean()\n",
    "movie_info_df['box_office'].fillna(mean_box_office, inplace=True)\n",
    "\n",
    "# Check if missing values have been filled\n",
    "missing_values = movie_info_df.isnull().sum()\n",
    "print(\"Missing values after imputation:\")\n",
    "print(missing_values)"
   ]
  },
  {
   "cell_type": "markdown",
   "metadata": {},
   "source": [
    "You can drop the rows with missing values in the \"director\", \"writer\", \"theater_date\", \"dvd_date\", \"runtime\",\"studio\" and \"synopsis\" columns using the dropna() method in pandas:"
   ]
  },
  {
   "cell_type": "code",
   "execution_count": 153,
   "metadata": {},
   "outputs": [
    {
     "name": "stdout",
     "output_type": "stream",
     "text": [
      "Missing values after dropping rows:\n",
      "id              0\n",
      "synopsis        0\n",
      "rating          0\n",
      "genre           0\n",
      "director        0\n",
      "writer          0\n",
      "theater_date    0\n",
      "dvd_date        0\n",
      "currency        0\n",
      "box_office      0\n",
      "runtime         0\n",
      "studio          0\n",
      "dtype: int64\n"
     ]
    }
   ],
   "source": [
    "# Drop the rows with missing values of director, writer,theater date, dvd_date and studio\n",
    "columns_to_drop_na = ['director', 'writer', 'theater_date', 'dvd_date', 'runtime','synopsis']\n",
    "movie_info_df.dropna(subset=columns_to_drop_na, inplace=True)\n",
    "\n",
    "# Check if missing values have been dropped\n",
    "missing_values = movie_info_df.isnull().sum()\n",
    "print(\"Missing values after dropping rows:\")\n",
    "print(missing_values)"
   ]
  },
  {
   "cell_type": "code",
   "execution_count": 154,
   "metadata": {},
   "outputs": [
    {
     "name": "stdout",
     "output_type": "stream",
     "text": [
      "<class 'pandas.core.frame.DataFrame'>\n",
      "Int64Index: 881 entries, 0 to 1558\n",
      "Data columns (total 12 columns):\n",
      " #   Column        Non-Null Count  Dtype  \n",
      "---  ------        --------------  -----  \n",
      " 0   id            881 non-null    int64  \n",
      " 1   synopsis      881 non-null    object \n",
      " 2   rating        881 non-null    object \n",
      " 3   genre         881 non-null    object \n",
      " 4   director      881 non-null    object \n",
      " 5   writer        881 non-null    object \n",
      " 6   theater_date  881 non-null    object \n",
      " 7   dvd_date      881 non-null    object \n",
      " 8   currency      881 non-null    object \n",
      " 9   box_office    881 non-null    float64\n",
      " 10  runtime       881 non-null    object \n",
      " 11  studio        881 non-null    object \n",
      "dtypes: float64(1), int64(1), object(10)\n",
      "memory usage: 89.5+ KB\n"
     ]
    }
   ],
   "source": [
    "# Checking the data types\n",
    "movie_info_df.info()"
   ]
  },
  {
   "cell_type": "markdown",
   "metadata": {},
   "source": [
    "# 2.1 Data Analysis\n",
    "After the data cleaning is done and dusted with, we can now move into the analysis for identifying genre trends over time by looking at the popularity of genres.\n",
    "\n",
    "We can merge the two datasets 'tmdb_df' and 'movie_info_df'"
   ]
  },
  {
   "cell_type": "code",
   "execution_count": 155,
   "metadata": {},
   "outputs": [
    {
     "data": {
      "text/html": [
       "<div>\n",
       "<style scoped>\n",
       "    .dataframe tbody tr th:only-of-type {\n",
       "        vertical-align: middle;\n",
       "    }\n",
       "\n",
       "    .dataframe tbody tr th {\n",
       "        vertical-align: top;\n",
       "    }\n",
       "\n",
       "    .dataframe thead th {\n",
       "        text-align: right;\n",
       "    }\n",
       "</style>\n",
       "<table border=\"1\" class=\"dataframe\">\n",
       "  <thead>\n",
       "    <tr style=\"text-align: right;\">\n",
       "      <th></th>\n",
       "      <th>id</th>\n",
       "      <th>synopsis</th>\n",
       "      <th>rating</th>\n",
       "      <th>genre</th>\n",
       "      <th>director</th>\n",
       "      <th>writer</th>\n",
       "      <th>theater_date</th>\n",
       "      <th>dvd_date</th>\n",
       "      <th>currency</th>\n",
       "      <th>box_office</th>\n",
       "      <th>...</th>\n",
       "      <th>studio</th>\n",
       "      <th>genre_ids</th>\n",
       "      <th>original_language</th>\n",
       "      <th>original_title</th>\n",
       "      <th>popularity</th>\n",
       "      <th>release_date</th>\n",
       "      <th>title</th>\n",
       "      <th>vote_average</th>\n",
       "      <th>vote_count</th>\n",
       "      <th>release_year</th>\n",
       "    </tr>\n",
       "  </thead>\n",
       "  <tbody>\n",
       "    <tr>\n",
       "      <th>0</th>\n",
       "      <td>93</td>\n",
       "      <td>\"Garbo Laughs</td>\n",
       "      <td>R</td>\n",
       "      <td>Classics|Comedy|Drama|Romance</td>\n",
       "      <td>Ernst Lubitsch</td>\n",
       "      <td>Charles Brackett|Billy Wilder|Walter Reisch|Me...</td>\n",
       "      <td>Nov 3, 1939</td>\n",
       "      <td>Sep 5, 2005</td>\n",
       "      <td>$</td>\n",
       "      <td>363.0</td>\n",
       "      <td>...</td>\n",
       "      <td>unknown</td>\n",
       "      <td>[80, 18, 9648, 53]</td>\n",
       "      <td>en</td>\n",
       "      <td>Anatomy of a Murder</td>\n",
       "      <td>12.710</td>\n",
       "      <td>1959-07-01</td>\n",
       "      <td>Anatomy of a Murder</td>\n",
       "      <td>7.9</td>\n",
       "      <td>359</td>\n",
       "      <td>1959</td>\n",
       "    </tr>\n",
       "    <tr>\n",
       "      <th>1</th>\n",
       "      <td>95</td>\n",
       "      <td>BLEED FOR THIS is the incredible true story of...</td>\n",
       "      <td>R</td>\n",
       "      <td>Drama|Sports and Fitness</td>\n",
       "      <td>Ben Younger</td>\n",
       "      <td>Ben Younger</td>\n",
       "      <td>Nov 18, 2016</td>\n",
       "      <td>Feb 14, 2017</td>\n",
       "      <td>$</td>\n",
       "      <td>363.0</td>\n",
       "      <td>...</td>\n",
       "      <td>Open Road Films</td>\n",
       "      <td>[28, 53, 878, 12]</td>\n",
       "      <td>en</td>\n",
       "      <td>Armageddon</td>\n",
       "      <td>15.799</td>\n",
       "      <td>1998-07-01</td>\n",
       "      <td>Armageddon</td>\n",
       "      <td>6.7</td>\n",
       "      <td>4267</td>\n",
       "      <td>1998</td>\n",
       "    </tr>\n",
       "    <tr>\n",
       "      <th>2</th>\n",
       "      <td>189</td>\n",
       "      <td>Based on one of Shirley Jackson's spookier sto...</td>\n",
       "      <td>NR</td>\n",
       "      <td>Drama|Horror|Mystery and Suspense|Television</td>\n",
       "      <td>Daniel Sackheim</td>\n",
       "      <td>Anthony Spinner</td>\n",
       "      <td>Sep 29, 1996</td>\n",
       "      <td>Feb 4, 2003</td>\n",
       "      <td>$</td>\n",
       "      <td>363.0</td>\n",
       "      <td>...</td>\n",
       "      <td>unknown</td>\n",
       "      <td>[80, 53]</td>\n",
       "      <td>en</td>\n",
       "      <td>Sin City: A Dame to Kill For</td>\n",
       "      <td>20.896</td>\n",
       "      <td>2014-08-22</td>\n",
       "      <td>Sin City: A Dame to Kill For</td>\n",
       "      <td>6.3</td>\n",
       "      <td>2210</td>\n",
       "      <td>2014</td>\n",
       "    </tr>\n",
       "    <tr>\n",
       "      <th>3</th>\n",
       "      <td>311</td>\n",
       "      <td>In Fiorile (US title: Wild Flower), Italy's Ta...</td>\n",
       "      <td>PG-13</td>\n",
       "      <td>Art House and International|Drama</td>\n",
       "      <td>Paolo Taviani|Vittorio Taviani</td>\n",
       "      <td>Paolo Taviani|Vittorio Taviani|Sandro Petraglia</td>\n",
       "      <td>Jan 1, 1993</td>\n",
       "      <td>Apr 1, 2008</td>\n",
       "      <td>$</td>\n",
       "      <td>363.0</td>\n",
       "      <td>...</td>\n",
       "      <td>unknown</td>\n",
       "      <td>[18, 80]</td>\n",
       "      <td>en</td>\n",
       "      <td>Once Upon a Time in America</td>\n",
       "      <td>17.717</td>\n",
       "      <td>1984-06-01</td>\n",
       "      <td>Once Upon a Time in America</td>\n",
       "      <td>8.4</td>\n",
       "      <td>2243</td>\n",
       "      <td>1984</td>\n",
       "    </tr>\n",
       "    <tr>\n",
       "      <th>4</th>\n",
       "      <td>387</td>\n",
       "      <td>In this western, Will Penny is an aging and im...</td>\n",
       "      <td>NR</td>\n",
       "      <td>Action and Adventure|Classics|Western|Romance</td>\n",
       "      <td>Tom Gries</td>\n",
       "      <td>Tom Gries</td>\n",
       "      <td>Apr 10, 1968</td>\n",
       "      <td>Jun 4, 2002</td>\n",
       "      <td>$</td>\n",
       "      <td>363.0</td>\n",
       "      <td>...</td>\n",
       "      <td>unknown</td>\n",
       "      <td>[18, 36, 10752]</td>\n",
       "      <td>de</td>\n",
       "      <td>Das Boot</td>\n",
       "      <td>16.554</td>\n",
       "      <td>1982-02-10</td>\n",
       "      <td>Das Boot</td>\n",
       "      <td>8.1</td>\n",
       "      <td>981</td>\n",
       "      <td>1982</td>\n",
       "    </tr>\n",
       "  </tbody>\n",
       "</table>\n",
       "<p>5 rows × 21 columns</p>\n",
       "</div>"
      ],
      "text/plain": [
       "    id                                           synopsis rating  \\\n",
       "0   93                                      \"Garbo Laughs      R   \n",
       "1   95  BLEED FOR THIS is the incredible true story of...      R   \n",
       "2  189  Based on one of Shirley Jackson's spookier sto...     NR   \n",
       "3  311  In Fiorile (US title: Wild Flower), Italy's Ta...  PG-13   \n",
       "4  387  In this western, Will Penny is an aging and im...     NR   \n",
       "\n",
       "                                           genre  \\\n",
       "0                  Classics|Comedy|Drama|Romance   \n",
       "1                       Drama|Sports and Fitness   \n",
       "2   Drama|Horror|Mystery and Suspense|Television   \n",
       "3              Art House and International|Drama   \n",
       "4  Action and Adventure|Classics|Western|Romance   \n",
       "\n",
       "                         director  \\\n",
       "0                  Ernst Lubitsch   \n",
       "1                     Ben Younger   \n",
       "2                 Daniel Sackheim   \n",
       "3  Paolo Taviani|Vittorio Taviani   \n",
       "4                       Tom Gries   \n",
       "\n",
       "                                              writer  theater_date  \\\n",
       "0  Charles Brackett|Billy Wilder|Walter Reisch|Me...   Nov 3, 1939   \n",
       "1                                        Ben Younger  Nov 18, 2016   \n",
       "2                                    Anthony Spinner  Sep 29, 1996   \n",
       "3    Paolo Taviani|Vittorio Taviani|Sandro Petraglia   Jan 1, 1993   \n",
       "4                                          Tom Gries  Apr 10, 1968   \n",
       "\n",
       "       dvd_date currency  box_office  ...           studio  \\\n",
       "0   Sep 5, 2005        $       363.0  ...          unknown   \n",
       "1  Feb 14, 2017        $       363.0  ...  Open Road Films   \n",
       "2   Feb 4, 2003        $       363.0  ...          unknown   \n",
       "3   Apr 1, 2008        $       363.0  ...          unknown   \n",
       "4   Jun 4, 2002        $       363.0  ...          unknown   \n",
       "\n",
       "            genre_ids original_language                original_title  \\\n",
       "0  [80, 18, 9648, 53]                en           Anatomy of a Murder   \n",
       "1   [28, 53, 878, 12]                en                    Armageddon   \n",
       "2            [80, 53]                en  Sin City: A Dame to Kill For   \n",
       "3            [18, 80]                en   Once Upon a Time in America   \n",
       "4     [18, 36, 10752]                de                      Das Boot   \n",
       "\n",
       "  popularity  release_date                         title vote_average  \\\n",
       "0     12.710    1959-07-01           Anatomy of a Murder          7.9   \n",
       "1     15.799    1998-07-01                    Armageddon          6.7   \n",
       "2     20.896    2014-08-22  Sin City: A Dame to Kill For          6.3   \n",
       "3     17.717    1984-06-01   Once Upon a Time in America          8.4   \n",
       "4     16.554    1982-02-10                      Das Boot          8.1   \n",
       "\n",
       "   vote_count  release_year  \n",
       "0         359          1959  \n",
       "1        4267          1998  \n",
       "2        2210          2014  \n",
       "3        2243          1984  \n",
       "4         981          1982  \n",
       "\n",
       "[5 rows x 21 columns]"
      ]
     },
     "execution_count": 155,
     "metadata": {},
     "output_type": "execute_result"
    }
   ],
   "source": [
    "merged_df2 = pd.merge(movie_info_df, tmdb_df, on='id', how='inner')\n",
    "merged_df2.head()"
   ]
  },
  {
   "cell_type": "markdown",
   "metadata": {},
   "source": [
    "After merging the two dataframes,we can start analysis by doing the following:\n",
    "\n",
    "    Expand the genres in the merged dataset so that each row represents a single genre-movie combination (explode the 'genres' column). \n",
    "    Group the data by release year and genre to calculate the count of movies in each genre for each year. \n",
    "    Visualize the genre trends over time using bar graph or other suitable visualizations."
   ]
  },
  {
   "cell_type": "code",
   "execution_count": 156,
   "metadata": {},
   "outputs": [
    {
     "data": {
      "text/html": [
       "<div>\n",
       "<style scoped>\n",
       "    .dataframe tbody tr th:only-of-type {\n",
       "        vertical-align: middle;\n",
       "    }\n",
       "\n",
       "    .dataframe tbody tr th {\n",
       "        vertical-align: top;\n",
       "    }\n",
       "\n",
       "    .dataframe thead th {\n",
       "        text-align: right;\n",
       "    }\n",
       "</style>\n",
       "<table border=\"1\" class=\"dataframe\">\n",
       "  <thead>\n",
       "    <tr style=\"text-align: right;\">\n",
       "      <th></th>\n",
       "      <th>release_year</th>\n",
       "      <th>genre</th>\n",
       "      <th>movie_count</th>\n",
       "    </tr>\n",
       "  </thead>\n",
       "  <tbody>\n",
       "    <tr>\n",
       "      <th>0</th>\n",
       "      <td>1946</td>\n",
       "      <td>Comedy|Drama|Romance</td>\n",
       "      <td>1</td>\n",
       "    </tr>\n",
       "    <tr>\n",
       "      <th>1</th>\n",
       "      <td>1956</td>\n",
       "      <td>Art House and International|Comedy|Drama|Roman...</td>\n",
       "      <td>1</td>\n",
       "    </tr>\n",
       "    <tr>\n",
       "      <th>2</th>\n",
       "      <td>1959</td>\n",
       "      <td>Classics|Comedy|Drama|Romance</td>\n",
       "      <td>1</td>\n",
       "    </tr>\n",
       "    <tr>\n",
       "      <th>3</th>\n",
       "      <td>1967</td>\n",
       "      <td>Drama</td>\n",
       "      <td>2</td>\n",
       "    </tr>\n",
       "    <tr>\n",
       "      <th>4</th>\n",
       "      <td>1977</td>\n",
       "      <td>Classics|Drama|Mystery and Suspense</td>\n",
       "      <td>1</td>\n",
       "    </tr>\n",
       "    <tr>\n",
       "      <th>5</th>\n",
       "      <td>1982</td>\n",
       "      <td>Action and Adventure|Classics|Western|Romance</td>\n",
       "      <td>2</td>\n",
       "    </tr>\n",
       "    <tr>\n",
       "      <th>6</th>\n",
       "      <td>1984</td>\n",
       "      <td>Art House and International|Drama</td>\n",
       "      <td>1</td>\n",
       "    </tr>\n",
       "    <tr>\n",
       "      <th>7</th>\n",
       "      <td>1996</td>\n",
       "      <td>Action and Adventure|Science Fiction and Fantasy</td>\n",
       "      <td>1</td>\n",
       "    </tr>\n",
       "    <tr>\n",
       "      <th>8</th>\n",
       "      <td>1997</td>\n",
       "      <td>Comedy</td>\n",
       "      <td>1</td>\n",
       "    </tr>\n",
       "    <tr>\n",
       "      <th>9</th>\n",
       "      <td>1997</td>\n",
       "      <td>Drama|Horror|Science Fiction and Fantasy</td>\n",
       "      <td>1</td>\n",
       "    </tr>\n",
       "    <tr>\n",
       "      <th>10</th>\n",
       "      <td>1998</td>\n",
       "      <td>Drama|Sports and Fitness</td>\n",
       "      <td>1</td>\n",
       "    </tr>\n",
       "    <tr>\n",
       "      <th>11</th>\n",
       "      <td>1999</td>\n",
       "      <td>Action and Adventure|Art House and Internation...</td>\n",
       "      <td>2</td>\n",
       "    </tr>\n",
       "    <tr>\n",
       "      <th>12</th>\n",
       "      <td>2003</td>\n",
       "      <td>Drama|Romance</td>\n",
       "      <td>1</td>\n",
       "    </tr>\n",
       "    <tr>\n",
       "      <th>13</th>\n",
       "      <td>2011</td>\n",
       "      <td>Action and Adventure|Drama</td>\n",
       "      <td>1</td>\n",
       "    </tr>\n",
       "    <tr>\n",
       "      <th>14</th>\n",
       "      <td>2011</td>\n",
       "      <td>Drama</td>\n",
       "      <td>1</td>\n",
       "    </tr>\n",
       "    <tr>\n",
       "      <th>15</th>\n",
       "      <td>2012</td>\n",
       "      <td>Action and Adventure|Art House and Internation...</td>\n",
       "      <td>1</td>\n",
       "    </tr>\n",
       "    <tr>\n",
       "      <th>16</th>\n",
       "      <td>2014</td>\n",
       "      <td>Drama|Horror|Mystery and Suspense|Television</td>\n",
       "      <td>1</td>\n",
       "    </tr>\n",
       "  </tbody>\n",
       "</table>\n",
       "</div>"
      ],
      "text/plain": [
       "    release_year                                              genre  \\\n",
       "0           1946                               Comedy|Drama|Romance   \n",
       "1           1956  Art House and International|Comedy|Drama|Roman...   \n",
       "2           1959                      Classics|Comedy|Drama|Romance   \n",
       "3           1967                                              Drama   \n",
       "4           1977                Classics|Drama|Mystery and Suspense   \n",
       "5           1982      Action and Adventure|Classics|Western|Romance   \n",
       "6           1984                  Art House and International|Drama   \n",
       "7           1996   Action and Adventure|Science Fiction and Fantasy   \n",
       "8           1997                                             Comedy   \n",
       "9           1997           Drama|Horror|Science Fiction and Fantasy   \n",
       "10          1998                           Drama|Sports and Fitness   \n",
       "11          1999  Action and Adventure|Art House and Internation...   \n",
       "12          2003                                      Drama|Romance   \n",
       "13          2011                         Action and Adventure|Drama   \n",
       "14          2011                                              Drama   \n",
       "15          2012  Action and Adventure|Art House and Internation...   \n",
       "16          2014       Drama|Horror|Mystery and Suspense|Television   \n",
       "\n",
       "    movie_count  \n",
       "0             1  \n",
       "1             1  \n",
       "2             1  \n",
       "3             2  \n",
       "4             1  \n",
       "5             2  \n",
       "6             1  \n",
       "7             1  \n",
       "8             1  \n",
       "9             1  \n",
       "10            1  \n",
       "11            2  \n",
       "12            1  \n",
       "13            1  \n",
       "14            1  \n",
       "15            1  \n",
       "16            1  "
      ]
     },
     "execution_count": 156,
     "metadata": {},
     "output_type": "execute_result"
    }
   ],
   "source": [
    "# Explode the 'genres' column to have one row per genre per movie\n",
    "genre_expanded_df = merged_df2.explode('genre')\n",
    "# Group by release year and genre, then count the number of movies\n",
    "genre_trend = genre_expanded_df.groupby(['release_year', 'genre']).size().reset_index(name='movie_count')\n",
    "genre_trend"
   ]
  },
  {
   "cell_type": "markdown",
   "metadata": {},
   "source": [
    "# 3.1 Data Visualization\n",
    "Here we do data visualization for better understanding of the analysis"
   ]
  },
  {
   "cell_type": "markdown",
   "metadata": {},
   "source": [
    "Let's visualize the data using a bar graph:"
   ]
  },
  {
   "cell_type": "code",
   "execution_count": 157,
   "metadata": {},
   "outputs": [
    {
     "data": {
      "image/png": "[encoded data removed]",
      "text/plain": [
       "<Figure size 864x432 with 1 Axes>"
      ]
     },
     "metadata": {
      "needs_background": "light"
     },
     "output_type": "display_data"
    }
   ],
   "source": [
    "# Pivot the data to create a DataFrame suitable for a bar graph\n",
    "genre_trend_pivot = genre_trend.pivot(index='release_year', columns='genre', values='movie_count').fillna(0)\n",
    "\n",
    "# Plot genre trends over time using a bar graph\n",
    "plt.figure(figsize=(12, 6))\n",
    "genre_trend_pivot.plot(kind='bar', stacked=True, cmap='viridis', ax=plt.gca())\n",
    "\n",
    "plt.title('Genre Trends Over Time')\n",
    "plt.xlabel('Release Year')\n",
    "plt.ylabel('Number of Movies')\n",
    "plt.legend(title='Genre', bbox_to_anchor=(1, 1))\n",
    "plt.grid(axis='y')\n",
    "plt.show()\n"
   ]
  },
  {
   "cell_type": "markdown",
   "metadata": {},
   "source": [
    "Interpretation:\n",
    "\n",
    "    a. The stacked bars provide a visual representation of how the composition of movies by genre has changed over time.\n",
    "\n",
    "    b. In earlier years (e.g., 1950s and 1960s), you can see a dominance of genres like \"Drama\" and \"Classics.\"\n",
    "\n",
    "    c. As you move into the 1980s and 1990s, there's a noticeable increase in the diversity of genres, with the emergence of genres like \"Action and Adventure,\" \"Science Fiction and Fantasy,\" and \"Comedy.\"\n",
    "\n",
    "    d. The 2000s show a continued increase in genre diversity, reflecting the expanding and evolving film industry.\n",
    "\n",
    "    e. You can observe fluctuations in genre composition from year to year, indicating shifts in audience preferences or industry trends.\n",
    "\n",
    "    f. For some years, certain genres stand out as dominant, while in other years, genres are more evenly distributed.\n",
    "\n",
    "    g. The stacked bars also help identify periods when specific genres gained or lost popularity. For instance, you can see a spike in \"Action and Adventure\" movies in the mid-1980s.\n",
    "\n",
    "    h. Towards the most recent years in the dataset, there's a wide variety of genres, reflecting the contemporary film landscape.\n",
    "\n",
    "Overall, this visualization provides valuable insights into the dynamic nature of genre trends in the film industry over the years. It highlights how different genres have risen and fallen in popularity, and how the film landscape has evolved to encompass a wide range of genres to cater to diverse audience preferences."
   ]
  },
  {
   "cell_type": "markdown",
   "metadata": {},
   "source": [
    "# 1.2 Load data and prepare dataset \n",
    "Here we analyze movie details such as director and box office performance using 'rt.movie_info.tsv' dataset. We have already cleaned our data so we can begin the analysis:\n",
    "\n",
    "    Director Analysis- Here we look at the relationship between director and number of movies.Directors who have led to the success of movie industry.\n",
    "    Box Office Performance Analysis-Analyze the overall box office performance of the movies.\n",
    "     *Calculate summary statistics for box office earnings. \n",
    "     *Visualize the distribution of box office earnings, e.g., with a histogram or bargraph. \n",
    "'rt.movie_info.tsv' is cleaned above we can just show the first few rows, shape, data types and statistical measures:"
   ]
  },
  {
   "cell_type": "code",
   "execution_count": 158,
   "metadata": {},
   "outputs": [
    {
     "data": {
      "text/html": [
       "<div>\n",
       "<style scoped>\n",
       "    .dataframe tbody tr th:only-of-type {\n",
       "        vertical-align: middle;\n",
       "    }\n",
       "\n",
       "    .dataframe tbody tr th {\n",
       "        vertical-align: top;\n",
       "    }\n",
       "\n",
       "    .dataframe thead th {\n",
       "        text-align: right;\n",
       "    }\n",
       "</style>\n",
       "<table border=\"1\" class=\"dataframe\">\n",
       "  <thead>\n",
       "    <tr style=\"text-align: right;\">\n",
       "      <th></th>\n",
       "      <th>id</th>\n",
       "      <th>synopsis</th>\n",
       "      <th>rating</th>\n",
       "      <th>genre</th>\n",
       "      <th>director</th>\n",
       "      <th>writer</th>\n",
       "      <th>theater_date</th>\n",
       "      <th>dvd_date</th>\n",
       "      <th>currency</th>\n",
       "      <th>box_office</th>\n",
       "      <th>runtime</th>\n",
       "      <th>studio</th>\n",
       "    </tr>\n",
       "  </thead>\n",
       "  <tbody>\n",
       "    <tr>\n",
       "      <th>0</th>\n",
       "      <td>1</td>\n",
       "      <td>This gritty, fast-paced, and innovative police...</td>\n",
       "      <td>R</td>\n",
       "      <td>Action and Adventure|Classics|Drama</td>\n",
       "      <td>William Friedkin</td>\n",
       "      <td>Ernest Tidyman</td>\n",
       "      <td>Oct 9, 1971</td>\n",
       "      <td>Sep 25, 2001</td>\n",
       "      <td>$</td>\n",
       "      <td>363.0</td>\n",
       "      <td>104 minutes</td>\n",
       "      <td>unknown</td>\n",
       "    </tr>\n",
       "    <tr>\n",
       "      <th>1</th>\n",
       "      <td>3</td>\n",
       "      <td>New York City, not-too-distant-future: Eric Pa...</td>\n",
       "      <td>R</td>\n",
       "      <td>Drama|Science Fiction and Fantasy</td>\n",
       "      <td>David Cronenberg</td>\n",
       "      <td>David Cronenberg|Don DeLillo</td>\n",
       "      <td>Aug 17, 2012</td>\n",
       "      <td>Jan 1, 2013</td>\n",
       "      <td>$</td>\n",
       "      <td>363.0</td>\n",
       "      <td>108 minutes</td>\n",
       "      <td>Entertainment One</td>\n",
       "    </tr>\n",
       "    <tr>\n",
       "      <th>2</th>\n",
       "      <td>5</td>\n",
       "      <td>Illeana Douglas delivers a superb performance ...</td>\n",
       "      <td>R</td>\n",
       "      <td>Drama|Musical and Performing Arts</td>\n",
       "      <td>Allison Anders</td>\n",
       "      <td>Allison Anders</td>\n",
       "      <td>Sep 13, 1996</td>\n",
       "      <td>Apr 18, 2000</td>\n",
       "      <td>$</td>\n",
       "      <td>363.0</td>\n",
       "      <td>116 minutes</td>\n",
       "      <td>unknown</td>\n",
       "    </tr>\n",
       "    <tr>\n",
       "      <th>3</th>\n",
       "      <td>6</td>\n",
       "      <td>Michael Douglas runs afoul of a treacherous su...</td>\n",
       "      <td>R</td>\n",
       "      <td>Drama|Mystery and Suspense</td>\n",
       "      <td>Barry Levinson</td>\n",
       "      <td>Paul Attanasio|Michael Crichton</td>\n",
       "      <td>Dec 9, 1994</td>\n",
       "      <td>Aug 27, 1997</td>\n",
       "      <td>$</td>\n",
       "      <td>363.0</td>\n",
       "      <td>128 minutes</td>\n",
       "      <td>unknown</td>\n",
       "    </tr>\n",
       "    <tr>\n",
       "      <th>5</th>\n",
       "      <td>8</td>\n",
       "      <td>The year is 1942. As the Allies unite overseas...</td>\n",
       "      <td>PG</td>\n",
       "      <td>Drama|Kids and Family</td>\n",
       "      <td>Jay Russell</td>\n",
       "      <td>Gail Gilchriest</td>\n",
       "      <td>Mar 3, 2000</td>\n",
       "      <td>Jul 11, 2000</td>\n",
       "      <td>$</td>\n",
       "      <td>363.0</td>\n",
       "      <td>95 minutes</td>\n",
       "      <td>Warner Bros. Pictures</td>\n",
       "    </tr>\n",
       "  </tbody>\n",
       "</table>\n",
       "</div>"
      ],
      "text/plain": [
       "   id                                           synopsis rating  \\\n",
       "0   1  This gritty, fast-paced, and innovative police...      R   \n",
       "1   3  New York City, not-too-distant-future: Eric Pa...      R   \n",
       "2   5  Illeana Douglas delivers a superb performance ...      R   \n",
       "3   6  Michael Douglas runs afoul of a treacherous su...      R   \n",
       "5   8  The year is 1942. As the Allies unite overseas...     PG   \n",
       "\n",
       "                                 genre          director  \\\n",
       "0  Action and Adventure|Classics|Drama  William Friedkin   \n",
       "1    Drama|Science Fiction and Fantasy  David Cronenberg   \n",
       "2    Drama|Musical and Performing Arts    Allison Anders   \n",
       "3           Drama|Mystery and Suspense    Barry Levinson   \n",
       "5                Drama|Kids and Family       Jay Russell   \n",
       "\n",
       "                            writer  theater_date      dvd_date currency  \\\n",
       "0                   Ernest Tidyman   Oct 9, 1971  Sep 25, 2001        $   \n",
       "1     David Cronenberg|Don DeLillo  Aug 17, 2012   Jan 1, 2013        $   \n",
       "2                   Allison Anders  Sep 13, 1996  Apr 18, 2000        $   \n",
       "3  Paul Attanasio|Michael Crichton   Dec 9, 1994  Aug 27, 1997        $   \n",
       "5                  Gail Gilchriest   Mar 3, 2000  Jul 11, 2000        $   \n",
       "\n",
       "   box_office      runtime                 studio  \n",
       "0       363.0  104 minutes                unknown  \n",
       "1       363.0  108 minutes      Entertainment One  \n",
       "2       363.0  116 minutes                unknown  \n",
       "3       363.0  128 minutes                unknown  \n",
       "5       363.0   95 minutes  Warner Bros. Pictures  "
      ]
     },
     "execution_count": 158,
     "metadata": {},
     "output_type": "execute_result"
    }
   ],
   "source": [
    "movie_info_df.head()"
   ]
  },
  {
   "cell_type": "code",
   "execution_count": 159,
   "metadata": {},
   "outputs": [
    {
     "data": {
      "text/plain": [
       "(881, 12)"
      ]
     },
     "execution_count": 159,
     "metadata": {},
     "output_type": "execute_result"
    }
   ],
   "source": [
    "# Check the shape of the data\n",
    "movie_info_df.shape"
   ]
  },
  {
   "cell_type": "code",
   "execution_count": 160,
   "metadata": {},
   "outputs": [
    {
     "name": "stdout",
     "output_type": "stream",
     "text": [
      "<class 'pandas.core.frame.DataFrame'>\n",
      "Int64Index: 881 entries, 0 to 1558\n",
      "Data columns (total 12 columns):\n",
      " #   Column        Non-Null Count  Dtype  \n",
      "---  ------        --------------  -----  \n",
      " 0   id            881 non-null    int64  \n",
      " 1   synopsis      881 non-null    object \n",
      " 2   rating        881 non-null    object \n",
      " 3   genre         881 non-null    object \n",
      " 4   director      881 non-null    object \n",
      " 5   writer        881 non-null    object \n",
      " 6   theater_date  881 non-null    object \n",
      " 7   dvd_date      881 non-null    object \n",
      " 8   currency      881 non-null    object \n",
      " 9   box_office    881 non-null    float64\n",
      " 10  runtime       881 non-null    object \n",
      " 11  studio        881 non-null    object \n",
      "dtypes: float64(1), int64(1), object(10)\n",
      "memory usage: 89.5+ KB\n"
     ]
    }
   ],
   "source": [
    "# Display basic information about the dataset\n",
    "movie_info_df.info()"
   ]
  },
  {
   "cell_type": "code",
   "execution_count": 161,
   "metadata": {},
   "outputs": [
    {
     "data": {
      "text/html": [
       "<div>\n",
       "<style scoped>\n",
       "    .dataframe tbody tr th:only-of-type {\n",
       "        vertical-align: middle;\n",
       "    }\n",
       "\n",
       "    .dataframe tbody tr th {\n",
       "        vertical-align: top;\n",
       "    }\n",
       "\n",
       "    .dataframe thead th {\n",
       "        text-align: right;\n",
       "    }\n",
       "</style>\n",
       "<table border=\"1\" class=\"dataframe\">\n",
       "  <thead>\n",
       "    <tr style=\"text-align: right;\">\n",
       "      <th></th>\n",
       "      <th>id</th>\n",
       "      <th>box_office</th>\n",
       "    </tr>\n",
       "  </thead>\n",
       "  <tbody>\n",
       "    <tr>\n",
       "      <th>count</th>\n",
       "      <td>881.000000</td>\n",
       "      <td>881.0</td>\n",
       "    </tr>\n",
       "    <tr>\n",
       "      <th>mean</th>\n",
       "      <td>1005.664018</td>\n",
       "      <td>363.0</td>\n",
       "    </tr>\n",
       "    <tr>\n",
       "      <th>std</th>\n",
       "      <td>576.094502</td>\n",
       "      <td>0.0</td>\n",
       "    </tr>\n",
       "    <tr>\n",
       "      <th>min</th>\n",
       "      <td>1.000000</td>\n",
       "      <td>363.0</td>\n",
       "    </tr>\n",
       "    <tr>\n",
       "      <th>25%</th>\n",
       "      <td>507.000000</td>\n",
       "      <td>363.0</td>\n",
       "    </tr>\n",
       "    <tr>\n",
       "      <th>50%</th>\n",
       "      <td>1000.000000</td>\n",
       "      <td>363.0</td>\n",
       "    </tr>\n",
       "    <tr>\n",
       "      <th>75%</th>\n",
       "      <td>1508.000000</td>\n",
       "      <td>363.0</td>\n",
       "    </tr>\n",
       "    <tr>\n",
       "      <th>max</th>\n",
       "      <td>1999.000000</td>\n",
       "      <td>363.0</td>\n",
       "    </tr>\n",
       "  </tbody>\n",
       "</table>\n",
       "</div>"
      ],
      "text/plain": [
       "                id  box_office\n",
       "count   881.000000       881.0\n",
       "mean   1005.664018       363.0\n",
       "std     576.094502         0.0\n",
       "min       1.000000       363.0\n",
       "25%     507.000000       363.0\n",
       "50%    1000.000000       363.0\n",
       "75%    1508.000000       363.0\n",
       "max    1999.000000       363.0"
      ]
     },
     "execution_count": 161,
     "metadata": {},
     "output_type": "execute_result"
    }
   ],
   "source": [
    "# Check the statistical measures\n",
    "movie_info_df.describe()"
   ]
  },
  {
   "cell_type": "markdown",
   "metadata": {},
   "source": [
    "# 2.2 Data Analysis\n",
    "Here we begin the analysis for movie details such as directors and box office performance.\n",
    "\n",
    "Director Analysis: \n",
    "1. Analyze the movies directed by different directors. \n",
    "2. Calculate summary statistics for box office performance grouped by director. \n",
    "3. Identify directors associated with high box office earnings."
   ]
  },
  {
   "cell_type": "code",
   "execution_count": 162,
   "metadata": {},
   "outputs": [
    {
     "name": "stdout",
     "output_type": "stream",
     "text": [
      "Movies directed by different directors:\n",
      "Steven Spielberg    8\n",
      "Clint Eastwood      7\n",
      "Barry Levinson      4\n",
      "William Friedkin    4\n",
      "Woody Allen         4\n",
      "Name: director, dtype: int64\n",
      "Summary statistics for box office performance by director:\n",
      "                               mean  median  count    sum    max    min\n",
      "director                                                               \n",
      "Abel Ferrara                  363.0   363.0      2  726.0  363.0  363.0\n",
      "Adam Ravetch|Sarah Robertson  363.0   363.0      1  363.0  363.0  363.0\n",
      "Adam Shankman                 363.0   363.0      1  363.0  363.0  363.0\n",
      "Adam Silver|Ben Hayflick      363.0   363.0      1  363.0  363.0  363.0\n",
      "Aditya Chopra                 363.0   363.0      1  363.0  363.0  363.0\n",
      "...                             ...     ...    ...    ...    ...    ...\n",
      "Yoav Shamir                   363.0   363.0      1  363.0  363.0  363.0\n",
      "Yoji Yamada                   363.0   363.0      1  363.0  363.0  363.0\n",
      "Youssef Delara                363.0   363.0      1  363.0  363.0  363.0\n",
      "Yves Simoneau                 363.0   363.0      1  363.0  363.0  363.0\n",
      "Zak Penn                      363.0   363.0      1  363.0  363.0  363.0\n",
      "\n",
      "[745 rows x 6 columns]\n",
      "                           mean  median  count     sum    max    min\n",
      "director                                                            \n",
      "Steven Spielberg          363.0   363.0      8  2904.0  363.0  363.0\n",
      "Clint Eastwood            363.0   363.0      7  2541.0  363.0  363.0\n",
      "William Friedkin          363.0   363.0      4  1452.0  363.0  363.0\n",
      "Woody Allen               363.0   363.0      4  1452.0  363.0  363.0\n",
      "Barry Levinson            363.0   363.0      4  1452.0  363.0  363.0\n",
      "...                         ...     ...    ...     ...    ...    ...\n",
      "Henry Jaglom|Bob Giraldi  363.0   363.0      1   363.0  363.0  363.0\n",
      "Henry King                363.0   363.0      1   363.0  363.0  363.0\n",
      "Henry Koster              363.0   363.0      1   363.0  363.0  363.0\n",
      "Henry MacRae|Harry McRae  363.0   363.0      1   363.0  363.0  363.0\n",
      "Zak Penn                  363.0   363.0      1   363.0  363.0  363.0\n",
      "\n",
      "[745 rows x 6 columns]\n"
     ]
    }
   ],
   "source": [
    "# Director analysis\n",
    "director_counts = movie_info_df['director'].value_counts()\n",
    "print(\"Movies directed by different directors:\")\n",
    "print(director_counts.head())\n",
    "\n",
    "# Calculate summary statistics for box office performance by director\n",
    "director_box_office_stats = movie_info_df.groupby('director')['box_office'].agg(['mean', 'median', 'count', 'sum', 'max', 'min'])\n",
    "print(\"Summary statistics for box office performance by director:\")\n",
    "print(director_box_office_stats)\n",
    "\n",
    "# Sort the directors by total box office earnings (highest to lowest)\n",
    "director_summary = director_box_office_stats.sort_values(by='sum', ascending=False)\n",
    "\n",
    "# Display the summary statistics\n",
    "print(director_summary)"
   ]
  },
  {
   "cell_type": "markdown",
   "metadata": {},
   "source": [
    "Box Office Performance Analysis:\n",
    "\n",
    "    *Analyze the overall box office performance of the movies.\n",
    "    *Calculate summary statistics for box office earnings.\n",
    "    *Visualize the distribution of box office earnings, e.g., with a histogram, bar graph"
   ]
  },
  {
   "cell_type": "code",
   "execution_count": 163,
   "metadata": {},
   "outputs": [
    {
     "name": "stdout",
     "output_type": "stream",
     "text": [
      "Summary statistics for box office earnings:\n",
      "mean      363.0\n",
      "median    363.0\n",
      "count     881.0\n",
      "max       363.0\n",
      "min       363.0\n",
      "Name: box_office, dtype: float64\n"
     ]
    }
   ],
   "source": [
    "# Box office performance analysis\n",
    "box_office_stats = movie_info_df['box_office'].agg(['mean', 'median','count', 'max', 'min'])\n",
    "print(\"Summary statistics for box office earnings:\")\n",
    "print(box_office_stats)"
   ]
  },
  {
   "cell_type": "markdown",
   "metadata": {},
   "source": [
    "# 3.2 Data Visualization\n",
    "Here we do data visualization for better understanding of the analysis\n",
    "\n",
    "Let's visualize the directors analysis using a bar graph:"
   ]
  },
  {
   "cell_type": "code",
   "execution_count": 164,
   "metadata": {},
   "outputs": [
    {
     "data": {
      "image/png": "[encoded data removed]",
      "text/plain": [
       "<Figure size 720x432 with 1 Axes>"
      ]
     },
     "metadata": {
      "needs_background": "light"
     },
     "output_type": "display_data"
    }
   ],
   "source": [
    "import matplotlib.pyplot as plt\n",
    "\n",
    "# Create a bar plot for director counts\n",
    "top_directors = director_counts.head(20)  # Adjust the number of directors to display\n",
    "plt.figure(figsize=(10, 6))\n",
    "top_directors.plot(kind='bar')\n",
    "#plot title and labels\n",
    "plt.title('Top Directors by Number of Movies')\n",
    "plt.xlabel('Director')\n",
    "plt.ylabel('Number of Movies')\n",
    "plt.xticks(rotation=45)\n",
    "plt.show()\n"
   ]
  },
  {
   "cell_type": "markdown",
   "metadata": {},
   "source": [
    "The above bar graph shows top directors by the number of movies they have directed.'Steven Spielberg' is the director with the highest number of movies. Majority of the directors have produced average of 3 movies."
   ]
  },
  {
   "cell_type": "markdown",
   "metadata": {},
   "source": [
    "Data visualization for box office performance analysis:"
   ]
  },
  {
   "cell_type": "code",
   "execution_count": 165,
   "metadata": {},
   "outputs": [
    {
     "data": {
      "image/png": "[encoded data removed]",
      "text/plain": [
       "<Figure size 720x432 with 1 Axes>"
      ]
     },
     "metadata": {
      "needs_background": "light"
     },
     "output_type": "display_data"
    }
   ],
   "source": [
    "# Visualize the distribution of box office earnings using a histogram\n",
    "plt.figure(figsize=(10, 6))\n",
    "plt.hist(movie_info_df['box_office'], bins=20, edgecolor='k', alpha=0.7)\n",
    "# Label title and labels \n",
    "plt.title('Distribution of Box Office Earnings')\n",
    "plt.xlabel('Box Office Earnings')\n",
    "plt.ylabel('Frequency')\n",
    "plt.grid(True)\n",
    "#plot graph\n",
    "plt.show()"
   ]
  },
  {
   "cell_type": "markdown",
   "metadata": {},
   "source": [
    "These statistics may raise questions about the accuracy or completeness of the box office earnings data, as it seems unusual for all movies in the dataset to have the exact same earnings figure.The dataset contains incomplete or placeholder values for box office earnings, which in this case there was a large number of box office missing. There may be some data-related issues that need further investigation on this so we would not consider this analysis for now."
   ]
  },
  {
   "cell_type": "markdown",
   "metadata": {},
   "source": [
    "# 1.3 Load and prepare the dataset\n",
    "Here we will load the 'rt.reviews.tsv' dataset which is a tsv file, in order to analyze relationship between reviews and ratings.We will then clean the dataset.\n",
    "\n",
    "The code below reads the TSV file, separates the values using tabs ('\\t'), and stores the data in a pandas DataFrame called reviews_df:"
   ]
  },
  {
   "cell_type": "code",
   "execution_count": 166,
   "metadata": {},
   "outputs": [
    {
     "data": {
      "text/html": [
       "<div>\n",
       "<style scoped>\n",
       "    .dataframe tbody tr th:only-of-type {\n",
       "        vertical-align: middle;\n",
       "    }\n",
       "\n",
       "    .dataframe tbody tr th {\n",
       "        vertical-align: top;\n",
       "    }\n",
       "\n",
       "    .dataframe thead th {\n",
       "        text-align: right;\n",
       "    }\n",
       "</style>\n",
       "<table border=\"1\" class=\"dataframe\">\n",
       "  <thead>\n",
       "    <tr style=\"text-align: right;\">\n",
       "      <th></th>\n",
       "      <th>id</th>\n",
       "      <th>review</th>\n",
       "      <th>rating</th>\n",
       "      <th>fresh</th>\n",
       "      <th>critic</th>\n",
       "      <th>top_critic</th>\n",
       "      <th>publisher</th>\n",
       "      <th>date</th>\n",
       "    </tr>\n",
       "  </thead>\n",
       "  <tbody>\n",
       "    <tr>\n",
       "      <th>0</th>\n",
       "      <td>3</td>\n",
       "      <td>A distinctly gallows take on contemporary fina...</td>\n",
       "      <td>3/5</td>\n",
       "      <td>fresh</td>\n",
       "      <td>PJ Nabarro</td>\n",
       "      <td>0</td>\n",
       "      <td>Patrick Nabarro</td>\n",
       "      <td>November 10, 2018</td>\n",
       "    </tr>\n",
       "    <tr>\n",
       "      <th>1</th>\n",
       "      <td>3</td>\n",
       "      <td>It's an allegory in search of a meaning that n...</td>\n",
       "      <td>NaN</td>\n",
       "      <td>rotten</td>\n",
       "      <td>Annalee Newitz</td>\n",
       "      <td>0</td>\n",
       "      <td>io9.com</td>\n",
       "      <td>May 23, 2018</td>\n",
       "    </tr>\n",
       "    <tr>\n",
       "      <th>2</th>\n",
       "      <td>3</td>\n",
       "      <td>... life lived in a bubble in financial dealin...</td>\n",
       "      <td>NaN</td>\n",
       "      <td>fresh</td>\n",
       "      <td>Sean Axmaker</td>\n",
       "      <td>0</td>\n",
       "      <td>Stream on Demand</td>\n",
       "      <td>January 4, 2018</td>\n",
       "    </tr>\n",
       "    <tr>\n",
       "      <th>3</th>\n",
       "      <td>3</td>\n",
       "      <td>Continuing along a line introduced in last yea...</td>\n",
       "      <td>NaN</td>\n",
       "      <td>fresh</td>\n",
       "      <td>Daniel Kasman</td>\n",
       "      <td>0</td>\n",
       "      <td>MUBI</td>\n",
       "      <td>November 16, 2017</td>\n",
       "    </tr>\n",
       "    <tr>\n",
       "      <th>4</th>\n",
       "      <td>3</td>\n",
       "      <td>... a perverse twist on neorealism...</td>\n",
       "      <td>NaN</td>\n",
       "      <td>fresh</td>\n",
       "      <td>NaN</td>\n",
       "      <td>0</td>\n",
       "      <td>Cinema Scope</td>\n",
       "      <td>October 12, 2017</td>\n",
       "    </tr>\n",
       "  </tbody>\n",
       "</table>\n",
       "</div>"
      ],
      "text/plain": [
       "   id                                             review rating   fresh  \\\n",
       "0   3  A distinctly gallows take on contemporary fina...    3/5   fresh   \n",
       "1   3  It's an allegory in search of a meaning that n...    NaN  rotten   \n",
       "2   3  ... life lived in a bubble in financial dealin...    NaN   fresh   \n",
       "3   3  Continuing along a line introduced in last yea...    NaN   fresh   \n",
       "4   3             ... a perverse twist on neorealism...     NaN   fresh   \n",
       "\n",
       "           critic  top_critic         publisher               date  \n",
       "0      PJ Nabarro           0   Patrick Nabarro  November 10, 2018  \n",
       "1  Annalee Newitz           0           io9.com       May 23, 2018  \n",
       "2    Sean Axmaker           0  Stream on Demand    January 4, 2018  \n",
       "3   Daniel Kasman           0              MUBI  November 16, 2017  \n",
       "4             NaN           0      Cinema Scope   October 12, 2017  "
      ]
     },
     "execution_count": 166,
     "metadata": {},
     "output_type": "execute_result"
    }
   ],
   "source": [
    "#use delimiter or sep parameter to '\\t' to specify that the file uses tabs as column separators\n",
    "reviews_df = pd.read_csv('rt.reviews.tsv', delimiter='\\t', encoding='latin')\n",
    "reviews_df.head()"
   ]
  },
  {
   "cell_type": "code",
   "execution_count": 167,
   "metadata": {},
   "outputs": [
    {
     "data": {
      "text/plain": [
       "(54432, 8)"
      ]
     },
     "execution_count": 167,
     "metadata": {},
     "output_type": "execute_result"
    }
   ],
   "source": [
    "reviews_df.shape"
   ]
  },
  {
   "cell_type": "code",
   "execution_count": 168,
   "metadata": {},
   "outputs": [
    {
     "name": "stdout",
     "output_type": "stream",
     "text": [
      "<class 'pandas.core.frame.DataFrame'>\n",
      "RangeIndex: 54432 entries, 0 to 54431\n",
      "Data columns (total 8 columns):\n",
      " #   Column      Non-Null Count  Dtype \n",
      "---  ------      --------------  ----- \n",
      " 0   id          54432 non-null  int64 \n",
      " 1   review      48869 non-null  object\n",
      " 2   rating      40915 non-null  object\n",
      " 3   fresh       54432 non-null  object\n",
      " 4   critic      51710 non-null  object\n",
      " 5   top_critic  54432 non-null  int64 \n",
      " 6   publisher   54123 non-null  object\n",
      " 7   date        54432 non-null  object\n",
      "dtypes: int64(2), object(6)\n",
      "memory usage: 3.3+ MB\n"
     ]
    }
   ],
   "source": [
    "reviews_df.info()"
   ]
  },
  {
   "cell_type": "code",
   "execution_count": 169,
   "metadata": {},
   "outputs": [
    {
     "data": {
      "text/plain": [
       "id                0\n",
       "review         5563\n",
       "rating        13517\n",
       "fresh             0\n",
       "critic         2722\n",
       "top_critic        0\n",
       "publisher       309\n",
       "date              0\n",
       "dtype: int64"
      ]
     },
     "execution_count": 169,
     "metadata": {},
     "output_type": "execute_result"
    }
   ],
   "source": [
    "#Number of missing values\n",
    "reviews_df.isnull().sum()"
   ]
  },
  {
   "cell_type": "code",
   "execution_count": 170,
   "metadata": {},
   "outputs": [
    {
     "name": "stdout",
     "output_type": "stream",
     "text": [
      "<class 'pandas.core.frame.DataFrame'>\n",
      "Int64Index: 33988 entries, 0 to 54424\n",
      "Data columns (total 8 columns):\n",
      " #   Column      Non-Null Count  Dtype \n",
      "---  ------      --------------  ----- \n",
      " 0   id          33988 non-null  int64 \n",
      " 1   review      33988 non-null  object\n",
      " 2   rating      33988 non-null  object\n",
      " 3   fresh       33988 non-null  object\n",
      " 4   critic      33988 non-null  object\n",
      " 5   top_critic  33988 non-null  int64 \n",
      " 6   publisher   33988 non-null  object\n",
      " 7   date        33988 non-null  object\n",
      "dtypes: int64(2), object(6)\n",
      "memory usage: 2.3+ MB\n"
     ]
    }
   ],
   "source": [
    "# Drop rows with missing 'review' and 'rating' values\n",
    "reviews_df.dropna(subset=['review', 'rating', 'critic', 'publisher'], inplace=True)\n",
    "# Verify that missing values have been dropped\n",
    "reviews_df.info()"
   ]
  },
  {
   "cell_type": "code",
   "execution_count": 171,
   "metadata": {},
   "outputs": [
    {
     "data": {
      "text/plain": [
       "0"
      ]
     },
     "execution_count": 171,
     "metadata": {},
     "output_type": "execute_result"
    }
   ],
   "source": [
    "# Check for duplicates\n",
    "reviews_df.duplicated().sum()"
   ]
  },
  {
   "cell_type": "markdown",
   "metadata": {},
   "source": [
    "# 2.3 Data Analysis\n",
    "Analyze relationship between reviews and ratings: Exploratory Data Analysis (EDA)\n",
    "\n",
    "We start by exploring the data and visualizing the relationship between reviews and ratings. Scatter plots can be helpful for this purpose.\n",
    "\n",
    "Analyzing Correlation:\n",
    "\n",
    "*Calculate the correlation coefficient between ratings and reviews to quantify the strength and direction of the relationship."
   ]
  },
  {
   "cell_type": "code",
   "execution_count": 172,
   "metadata": {},
   "outputs": [
    {
     "name": "stdout",
     "output_type": "stream",
     "text": [
      "   Review_Length_Group Ratings_Group  Count\n",
      "0         (0.0, 100.0]        (0, 1]     50\n",
      "1         (0.0, 100.0]        (1, 2]      8\n",
      "2         (0.0, 100.0]        (2, 3]     23\n",
      "3         (0.0, 100.0]        (3, 4]     19\n",
      "4         (0.0, 100.0]        (4, 5]     15\n",
      "5       (100.0, 200.0]        (0, 1]     65\n",
      "6       (100.0, 200.0]        (1, 2]      7\n",
      "7       (100.0, 200.0]        (2, 3]     29\n",
      "8       (100.0, 200.0]        (3, 4]     31\n",
      "9       (100.0, 200.0]        (4, 5]     29\n",
      "10      (200.0, 300.0]        (0, 1]      5\n",
      "11      (200.0, 300.0]        (1, 2]      1\n",
      "12      (200.0, 300.0]        (2, 3]      3\n",
      "13      (200.0, 300.0]        (3, 4]      9\n",
      "14      (200.0, 300.0]        (4, 5]      4\n",
      "15      (300.0, 400.0]        (0, 1]      0\n",
      "16      (300.0, 400.0]        (1, 2]      0\n",
      "17      (300.0, 400.0]        (2, 3]      0\n",
      "18      (300.0, 400.0]        (3, 4]      0\n",
      "19      (300.0, 400.0]        (4, 5]      0\n",
      "20      (400.0, 500.0]        (0, 1]      0\n",
      "21      (400.0, 500.0]        (1, 2]      0\n",
      "22      (400.0, 500.0]        (2, 3]      0\n",
      "23      (400.0, 500.0]        (3, 4]      0\n",
      "24      (400.0, 500.0]        (4, 5]      0\n",
      "25        (500.0, inf]        (0, 1]      0\n",
      "26        (500.0, inf]        (1, 2]      0\n",
      "27        (500.0, inf]        (2, 3]      0\n",
      "28        (500.0, inf]        (3, 4]      0\n",
      "29        (500.0, inf]        (4, 5]      0\n"
     ]
    }
   ],
   "source": [
    "# Convert the 'rating' column to numeric (assuming it contains numerical ratings)\n",
    "reviews_df['rating'] = pd.to_numeric(reviews_df['rating'], errors='coerce')\n",
    "\n",
    "# Create bins for Review Length and Ratings\n",
    "review_length_bins = [0, 100, 200, 300, 400, 500, float('inf')]  # Define your own bins\n",
    "rating_bins = [0, 1, 2, 3, 4, 5]  # Define your own bins\n",
    "\n",
    "# Apply binning to Review Length and Ratings\n",
    "reviews_df['Review_Length_Group'] = pd.cut(reviews_df['review'].str.len(), bins=review_length_bins)\n",
    "reviews_df['Ratings_Group'] = pd.cut(reviews_df['rating'], bins=rating_bins)\n",
    "\n",
    "# Group data based on these bins\n",
    "grouped_data = reviews_df.groupby(['Review_Length_Group', 'Ratings_Group']).size().reset_index(name='Count')\n",
    "\n",
    "# Display the grouped data\n",
    "print(grouped_data)"
   ]
  },
  {
   "cell_type": "code",
   "execution_count": 173,
   "metadata": {},
   "outputs": [
    {
     "data": {
      "image/png": "[encoded data removed]",
      "text/plain": [
       "<Figure size 720x432 with 1 Axes>"
      ]
     },
     "metadata": {
      "needs_background": "light"
     },
     "output_type": "display_data"
    },
    {
     "name": "stdout",
     "output_type": "stream",
     "text": [
      "Correlation between Ratings and Review Length: 0.08875037651917239\n"
     ]
    }
   ],
   "source": [
    "# Convert 'rating' column to numeric (assuming it represents ratings)\n",
    "reviews_df['rating'] = pd.to_numeric(reviews_df['rating'], errors='coerce')\n",
    "\n",
    "# Calculate the correlation between 'rating' and the length of 'review'\n",
    "correlation = reviews_df['rating'].corr(reviews_df['review'].str.len())\n",
    "\n",
    "# Create a scatter plot to visualize the relationship\n",
    "plt.figure(figsize=(10, 6))\n",
    "sns.scatterplot(x='rating', y=reviews_df['review'].str.len(), data=reviews_df)\n",
    "plt.title('Relationship between Ratings and Review Length')\n",
    "plt.xlabel('Ratings')\n",
    "plt.ylabel('Review Length')\n",
    "plt.show()\n",
    "\n",
    "# Print the correlation coefficient\n",
    "print(f\"Correlation between Ratings and Review Length: {correlation}\")"
   ]
  },
  {
   "cell_type": "markdown",
   "metadata": {},
   "source": [
    "The correlation coefficient between Ratings and Review Length is approximately 0.0888, which is a relatively low positive correlation. Here's how to interpret this result:\n",
    "\n",
    "1. Weak Positive Correlation: The positive sign of the correlation coefficient (0.0888) indicates that there is a positive relationship between Ratings and Review Length. When Ratings increase, Review Length tends to increase, but the relationship is not very strong.\n",
    "\n",
    "2. Strength of Correlation: A correlation coefficient of 0.0888 is considered weak. This suggests that there is only a mild tendency for Review Length to increase as Ratings increase. In other words, the length of reviews does not strongly depend on the assigned ratings.\n",
    "\n",
    "3. Practical Significance: While there is a statistically significant positive correlation, the low strength of the correlation suggests that Ratings may not be a strong predictor of Review Length. Other factors or variables may have a more substantial influence on how long reviews are."
   ]
  },
  {
   "cell_type": "markdown",
   "metadata": {},
   "source": [
    "# Recommendations\n",
    "Based on our analysis, we can draw the following recommendations:\n",
    "1. Diversify Genre Portfolio for Better Box Office Performance:\n",
    "Based on our analysis of genre trends, consider diversifying the movie portfolio. Invest in genres that are currently on the rise to maximize box office potential.Keep an eye on emerging genres and be prepared to adapt your production strategy to meet changing audience preferences.\n",
    "2. Director Selection and Performance:\n",
    "Utilize insights from your analysis of director performance and box office results to make informed decisions when selecting directors for your projects.\n",
    "Consider collaborating with directors who have a track record of delivering successful movies in genres that align with your objectives.\n",
    "3. International Market Expansion:\n",
    "Given that you're analyzing both domestic and foreign box office performance, consider strategies to tap into international markets. Identify genres and trends that resonate with global audiences.\n",
    "Collaborate with international distribution partners and explore localization options to enhance your movie's appeal in different regions.\n",
    "4. Quality Assurance and Improvement:\n",
    "Place a strong emphasis on ensuring the quality of your movies. Positive reviews and high ratings are often correlated with well-made, engaging films.\n",
    "Invest in scriptwriting, production, and post-production to create movies that captivate both critics and audiences"
   ]
  },
  {
   "cell_type": "markdown",
   "metadata": {},
   "source": [
    "# Conclusion\n",
    "\n",
    "In summary, our project provided a comprehensive overview of the movie industry, shedding light on critical factors influencing box office performance, genre trends, and the role of reviews and ratings. The recommendations offered are intended to guide industry professionals and stakeholders in making informed decisions to maximize the success of future movie projects. However, it's important to note that the movie industry is ever-evolving, and staying attuned to ongoing changes and innovations is essential for continued success in this dynamic field."
   ]
  }
 ],
 "metadata": {
  "kernelspec": {
   "display_name": "Python (learn-env)",
   "language": "python",
   "name": "learn-env"
  },
  "language_info": {
   "codemirror_mode": {
    "name": "ipython",
    "version": 3
   },
   "file_extension": ".py",
   "mimetype": "text/x-python",
   "name": "python",
   "nbconvert_exporter": "python",
   "pygments_lexer": "ipython3",
   "version": "3.8.5"
  }
 },
 "nbformat": 4,
 "nbformat_minor": 4
}
